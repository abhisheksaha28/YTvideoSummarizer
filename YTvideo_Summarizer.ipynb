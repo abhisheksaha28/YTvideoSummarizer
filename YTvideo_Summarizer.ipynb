{
  "nbformat": 4,
  "nbformat_minor": 0,
  "metadata": {
    "colab": {
      "provenance": [],
      "authorship_tag": "ABX9TyP4fWgyh34trdUwKA55zBrm",
      "include_colab_link": true
    },
    "kernelspec": {
      "name": "python3",
      "display_name": "Python 3"
    },
    "language_info": {
      "name": "python"
    },
    "widgets": {
      "application/vnd.jupyter.widget-state+json": {
        "605f6d863e1e453ebb7c7f6f64aa8dd6": {
          "model_module": "@jupyter-widgets/controls",
          "model_name": "HBoxModel",
          "model_module_version": "1.5.0",
          "state": {
            "_dom_classes": [],
            "_model_module": "@jupyter-widgets/controls",
            "_model_module_version": "1.5.0",
            "_model_name": "HBoxModel",
            "_view_count": null,
            "_view_module": "@jupyter-widgets/controls",
            "_view_module_version": "1.5.0",
            "_view_name": "HBoxView",
            "box_style": "",
            "children": [
              "IPY_MODEL_de161ece63c34d399796fe2720116a9d",
              "IPY_MODEL_0c28fb42b2ee40568076d9b384ca4db5",
              "IPY_MODEL_a73bdc775ad949f4bd4efc3d413862a5"
            ],
            "layout": "IPY_MODEL_09ac12b1c7e14ee5a727ff5dca40071f"
          }
        },
        "de161ece63c34d399796fe2720116a9d": {
          "model_module": "@jupyter-widgets/controls",
          "model_name": "HTMLModel",
          "model_module_version": "1.5.0",
          "state": {
            "_dom_classes": [],
            "_model_module": "@jupyter-widgets/controls",
            "_model_module_version": "1.5.0",
            "_model_name": "HTMLModel",
            "_view_count": null,
            "_view_module": "@jupyter-widgets/controls",
            "_view_module_version": "1.5.0",
            "_view_name": "HTMLView",
            "description": "",
            "description_tooltip": null,
            "layout": "IPY_MODEL_913ed146d1204ddeb383a64c60f610de",
            "placeholder": "​",
            "style": "IPY_MODEL_216d565fa8224767ae627a93fa783ef4",
            "value": "config.json: 100%"
          }
        },
        "0c28fb42b2ee40568076d9b384ca4db5": {
          "model_module": "@jupyter-widgets/controls",
          "model_name": "FloatProgressModel",
          "model_module_version": "1.5.0",
          "state": {
            "_dom_classes": [],
            "_model_module": "@jupyter-widgets/controls",
            "_model_module_version": "1.5.0",
            "_model_name": "FloatProgressModel",
            "_view_count": null,
            "_view_module": "@jupyter-widgets/controls",
            "_view_module_version": "1.5.0",
            "_view_name": "ProgressView",
            "bar_style": "success",
            "description": "",
            "description_tooltip": null,
            "layout": "IPY_MODEL_81a7411b1fd84d92943834d7fcd6ec6e",
            "max": 1802,
            "min": 0,
            "orientation": "horizontal",
            "style": "IPY_MODEL_bb71b4b75316455392c1a19fdbe76cdf",
            "value": 1802
          }
        },
        "a73bdc775ad949f4bd4efc3d413862a5": {
          "model_module": "@jupyter-widgets/controls",
          "model_name": "HTMLModel",
          "model_module_version": "1.5.0",
          "state": {
            "_dom_classes": [],
            "_model_module": "@jupyter-widgets/controls",
            "_model_module_version": "1.5.0",
            "_model_name": "HTMLModel",
            "_view_count": null,
            "_view_module": "@jupyter-widgets/controls",
            "_view_module_version": "1.5.0",
            "_view_name": "HTMLView",
            "description": "",
            "description_tooltip": null,
            "layout": "IPY_MODEL_d5db00cb6be94345b2490c6d448fa0c0",
            "placeholder": "​",
            "style": "IPY_MODEL_16e7f06c0045495688e223d30b66544d",
            "value": " 1.80k/1.80k [00:00&lt;00:00, 63.1kB/s]"
          }
        },
        "09ac12b1c7e14ee5a727ff5dca40071f": {
          "model_module": "@jupyter-widgets/base",
          "model_name": "LayoutModel",
          "model_module_version": "1.2.0",
          "state": {
            "_model_module": "@jupyter-widgets/base",
            "_model_module_version": "1.2.0",
            "_model_name": "LayoutModel",
            "_view_count": null,
            "_view_module": "@jupyter-widgets/base",
            "_view_module_version": "1.2.0",
            "_view_name": "LayoutView",
            "align_content": null,
            "align_items": null,
            "align_self": null,
            "border": null,
            "bottom": null,
            "display": null,
            "flex": null,
            "flex_flow": null,
            "grid_area": null,
            "grid_auto_columns": null,
            "grid_auto_flow": null,
            "grid_auto_rows": null,
            "grid_column": null,
            "grid_gap": null,
            "grid_row": null,
            "grid_template_areas": null,
            "grid_template_columns": null,
            "grid_template_rows": null,
            "height": null,
            "justify_content": null,
            "justify_items": null,
            "left": null,
            "margin": null,
            "max_height": null,
            "max_width": null,
            "min_height": null,
            "min_width": null,
            "object_fit": null,
            "object_position": null,
            "order": null,
            "overflow": null,
            "overflow_x": null,
            "overflow_y": null,
            "padding": null,
            "right": null,
            "top": null,
            "visibility": null,
            "width": null
          }
        },
        "913ed146d1204ddeb383a64c60f610de": {
          "model_module": "@jupyter-widgets/base",
          "model_name": "LayoutModel",
          "model_module_version": "1.2.0",
          "state": {
            "_model_module": "@jupyter-widgets/base",
            "_model_module_version": "1.2.0",
            "_model_name": "LayoutModel",
            "_view_count": null,
            "_view_module": "@jupyter-widgets/base",
            "_view_module_version": "1.2.0",
            "_view_name": "LayoutView",
            "align_content": null,
            "align_items": null,
            "align_self": null,
            "border": null,
            "bottom": null,
            "display": null,
            "flex": null,
            "flex_flow": null,
            "grid_area": null,
            "grid_auto_columns": null,
            "grid_auto_flow": null,
            "grid_auto_rows": null,
            "grid_column": null,
            "grid_gap": null,
            "grid_row": null,
            "grid_template_areas": null,
            "grid_template_columns": null,
            "grid_template_rows": null,
            "height": null,
            "justify_content": null,
            "justify_items": null,
            "left": null,
            "margin": null,
            "max_height": null,
            "max_width": null,
            "min_height": null,
            "min_width": null,
            "object_fit": null,
            "object_position": null,
            "order": null,
            "overflow": null,
            "overflow_x": null,
            "overflow_y": null,
            "padding": null,
            "right": null,
            "top": null,
            "visibility": null,
            "width": null
          }
        },
        "216d565fa8224767ae627a93fa783ef4": {
          "model_module": "@jupyter-widgets/controls",
          "model_name": "DescriptionStyleModel",
          "model_module_version": "1.5.0",
          "state": {
            "_model_module": "@jupyter-widgets/controls",
            "_model_module_version": "1.5.0",
            "_model_name": "DescriptionStyleModel",
            "_view_count": null,
            "_view_module": "@jupyter-widgets/base",
            "_view_module_version": "1.2.0",
            "_view_name": "StyleView",
            "description_width": ""
          }
        },
        "81a7411b1fd84d92943834d7fcd6ec6e": {
          "model_module": "@jupyter-widgets/base",
          "model_name": "LayoutModel",
          "model_module_version": "1.2.0",
          "state": {
            "_model_module": "@jupyter-widgets/base",
            "_model_module_version": "1.2.0",
            "_model_name": "LayoutModel",
            "_view_count": null,
            "_view_module": "@jupyter-widgets/base",
            "_view_module_version": "1.2.0",
            "_view_name": "LayoutView",
            "align_content": null,
            "align_items": null,
            "align_self": null,
            "border": null,
            "bottom": null,
            "display": null,
            "flex": null,
            "flex_flow": null,
            "grid_area": null,
            "grid_auto_columns": null,
            "grid_auto_flow": null,
            "grid_auto_rows": null,
            "grid_column": null,
            "grid_gap": null,
            "grid_row": null,
            "grid_template_areas": null,
            "grid_template_columns": null,
            "grid_template_rows": null,
            "height": null,
            "justify_content": null,
            "justify_items": null,
            "left": null,
            "margin": null,
            "max_height": null,
            "max_width": null,
            "min_height": null,
            "min_width": null,
            "object_fit": null,
            "object_position": null,
            "order": null,
            "overflow": null,
            "overflow_x": null,
            "overflow_y": null,
            "padding": null,
            "right": null,
            "top": null,
            "visibility": null,
            "width": null
          }
        },
        "bb71b4b75316455392c1a19fdbe76cdf": {
          "model_module": "@jupyter-widgets/controls",
          "model_name": "ProgressStyleModel",
          "model_module_version": "1.5.0",
          "state": {
            "_model_module": "@jupyter-widgets/controls",
            "_model_module_version": "1.5.0",
            "_model_name": "ProgressStyleModel",
            "_view_count": null,
            "_view_module": "@jupyter-widgets/base",
            "_view_module_version": "1.2.0",
            "_view_name": "StyleView",
            "bar_color": null,
            "description_width": ""
          }
        },
        "d5db00cb6be94345b2490c6d448fa0c0": {
          "model_module": "@jupyter-widgets/base",
          "model_name": "LayoutModel",
          "model_module_version": "1.2.0",
          "state": {
            "_model_module": "@jupyter-widgets/base",
            "_model_module_version": "1.2.0",
            "_model_name": "LayoutModel",
            "_view_count": null,
            "_view_module": "@jupyter-widgets/base",
            "_view_module_version": "1.2.0",
            "_view_name": "LayoutView",
            "align_content": null,
            "align_items": null,
            "align_self": null,
            "border": null,
            "bottom": null,
            "display": null,
            "flex": null,
            "flex_flow": null,
            "grid_area": null,
            "grid_auto_columns": null,
            "grid_auto_flow": null,
            "grid_auto_rows": null,
            "grid_column": null,
            "grid_gap": null,
            "grid_row": null,
            "grid_template_areas": null,
            "grid_template_columns": null,
            "grid_template_rows": null,
            "height": null,
            "justify_content": null,
            "justify_items": null,
            "left": null,
            "margin": null,
            "max_height": null,
            "max_width": null,
            "min_height": null,
            "min_width": null,
            "object_fit": null,
            "object_position": null,
            "order": null,
            "overflow": null,
            "overflow_x": null,
            "overflow_y": null,
            "padding": null,
            "right": null,
            "top": null,
            "visibility": null,
            "width": null
          }
        },
        "16e7f06c0045495688e223d30b66544d": {
          "model_module": "@jupyter-widgets/controls",
          "model_name": "DescriptionStyleModel",
          "model_module_version": "1.5.0",
          "state": {
            "_model_module": "@jupyter-widgets/controls",
            "_model_module_version": "1.5.0",
            "_model_name": "DescriptionStyleModel",
            "_view_count": null,
            "_view_module": "@jupyter-widgets/base",
            "_view_module_version": "1.2.0",
            "_view_name": "StyleView",
            "description_width": ""
          }
        },
        "f338e5a626e14c50b8f4b0d12fc7f365": {
          "model_module": "@jupyter-widgets/controls",
          "model_name": "HBoxModel",
          "model_module_version": "1.5.0",
          "state": {
            "_dom_classes": [],
            "_model_module": "@jupyter-widgets/controls",
            "_model_module_version": "1.5.0",
            "_model_name": "HBoxModel",
            "_view_count": null,
            "_view_module": "@jupyter-widgets/controls",
            "_view_module_version": "1.5.0",
            "_view_name": "HBoxView",
            "box_style": "",
            "children": [
              "IPY_MODEL_b13760aa88874f97ae0dfac60dea609c",
              "IPY_MODEL_dac8138d708e47a28c75228a01cfce83",
              "IPY_MODEL_eb921ba0370341dfa81254e61d174cb3"
            ],
            "layout": "IPY_MODEL_c0968c12ab12433699b52c8461dc89df"
          }
        },
        "b13760aa88874f97ae0dfac60dea609c": {
          "model_module": "@jupyter-widgets/controls",
          "model_name": "HTMLModel",
          "model_module_version": "1.5.0",
          "state": {
            "_dom_classes": [],
            "_model_module": "@jupyter-widgets/controls",
            "_model_module_version": "1.5.0",
            "_model_name": "HTMLModel",
            "_view_count": null,
            "_view_module": "@jupyter-widgets/controls",
            "_view_module_version": "1.5.0",
            "_view_name": "HTMLView",
            "description": "",
            "description_tooltip": null,
            "layout": "IPY_MODEL_5c4c7fab241a483f941657248af5a8ca",
            "placeholder": "​",
            "style": "IPY_MODEL_15b95640e297409a88287156cdcdc8d0",
            "value": "pytorch_model.bin: 100%"
          }
        },
        "dac8138d708e47a28c75228a01cfce83": {
          "model_module": "@jupyter-widgets/controls",
          "model_name": "FloatProgressModel",
          "model_module_version": "1.5.0",
          "state": {
            "_dom_classes": [],
            "_model_module": "@jupyter-widgets/controls",
            "_model_module_version": "1.5.0",
            "_model_name": "FloatProgressModel",
            "_view_count": null,
            "_view_module": "@jupyter-widgets/controls",
            "_view_module_version": "1.5.0",
            "_view_name": "ProgressView",
            "bar_style": "success",
            "description": "",
            "description_tooltip": null,
            "layout": "IPY_MODEL_24ce9a245373430b886439edcff47309",
            "max": 1222317369,
            "min": 0,
            "orientation": "horizontal",
            "style": "IPY_MODEL_4d4cad63d19e4783adbb198c43423fc0",
            "value": 1222317369
          }
        },
        "eb921ba0370341dfa81254e61d174cb3": {
          "model_module": "@jupyter-widgets/controls",
          "model_name": "HTMLModel",
          "model_module_version": "1.5.0",
          "state": {
            "_dom_classes": [],
            "_model_module": "@jupyter-widgets/controls",
            "_model_module_version": "1.5.0",
            "_model_name": "HTMLModel",
            "_view_count": null,
            "_view_module": "@jupyter-widgets/controls",
            "_view_module_version": "1.5.0",
            "_view_name": "HTMLView",
            "description": "",
            "description_tooltip": null,
            "layout": "IPY_MODEL_e21f6de6c0994f46beeaff2c83493e63",
            "placeholder": "​",
            "style": "IPY_MODEL_39238083cde042fdafc41b4457b8b9e1",
            "value": " 1.22G/1.22G [00:14&lt;00:00, 168MB/s]"
          }
        },
        "c0968c12ab12433699b52c8461dc89df": {
          "model_module": "@jupyter-widgets/base",
          "model_name": "LayoutModel",
          "model_module_version": "1.2.0",
          "state": {
            "_model_module": "@jupyter-widgets/base",
            "_model_module_version": "1.2.0",
            "_model_name": "LayoutModel",
            "_view_count": null,
            "_view_module": "@jupyter-widgets/base",
            "_view_module_version": "1.2.0",
            "_view_name": "LayoutView",
            "align_content": null,
            "align_items": null,
            "align_self": null,
            "border": null,
            "bottom": null,
            "display": null,
            "flex": null,
            "flex_flow": null,
            "grid_area": null,
            "grid_auto_columns": null,
            "grid_auto_flow": null,
            "grid_auto_rows": null,
            "grid_column": null,
            "grid_gap": null,
            "grid_row": null,
            "grid_template_areas": null,
            "grid_template_columns": null,
            "grid_template_rows": null,
            "height": null,
            "justify_content": null,
            "justify_items": null,
            "left": null,
            "margin": null,
            "max_height": null,
            "max_width": null,
            "min_height": null,
            "min_width": null,
            "object_fit": null,
            "object_position": null,
            "order": null,
            "overflow": null,
            "overflow_x": null,
            "overflow_y": null,
            "padding": null,
            "right": null,
            "top": null,
            "visibility": null,
            "width": null
          }
        },
        "5c4c7fab241a483f941657248af5a8ca": {
          "model_module": "@jupyter-widgets/base",
          "model_name": "LayoutModel",
          "model_module_version": "1.2.0",
          "state": {
            "_model_module": "@jupyter-widgets/base",
            "_model_module_version": "1.2.0",
            "_model_name": "LayoutModel",
            "_view_count": null,
            "_view_module": "@jupyter-widgets/base",
            "_view_module_version": "1.2.0",
            "_view_name": "LayoutView",
            "align_content": null,
            "align_items": null,
            "align_self": null,
            "border": null,
            "bottom": null,
            "display": null,
            "flex": null,
            "flex_flow": null,
            "grid_area": null,
            "grid_auto_columns": null,
            "grid_auto_flow": null,
            "grid_auto_rows": null,
            "grid_column": null,
            "grid_gap": null,
            "grid_row": null,
            "grid_template_areas": null,
            "grid_template_columns": null,
            "grid_template_rows": null,
            "height": null,
            "justify_content": null,
            "justify_items": null,
            "left": null,
            "margin": null,
            "max_height": null,
            "max_width": null,
            "min_height": null,
            "min_width": null,
            "object_fit": null,
            "object_position": null,
            "order": null,
            "overflow": null,
            "overflow_x": null,
            "overflow_y": null,
            "padding": null,
            "right": null,
            "top": null,
            "visibility": null,
            "width": null
          }
        },
        "15b95640e297409a88287156cdcdc8d0": {
          "model_module": "@jupyter-widgets/controls",
          "model_name": "DescriptionStyleModel",
          "model_module_version": "1.5.0",
          "state": {
            "_model_module": "@jupyter-widgets/controls",
            "_model_module_version": "1.5.0",
            "_model_name": "DescriptionStyleModel",
            "_view_count": null,
            "_view_module": "@jupyter-widgets/base",
            "_view_module_version": "1.2.0",
            "_view_name": "StyleView",
            "description_width": ""
          }
        },
        "24ce9a245373430b886439edcff47309": {
          "model_module": "@jupyter-widgets/base",
          "model_name": "LayoutModel",
          "model_module_version": "1.2.0",
          "state": {
            "_model_module": "@jupyter-widgets/base",
            "_model_module_version": "1.2.0",
            "_model_name": "LayoutModel",
            "_view_count": null,
            "_view_module": "@jupyter-widgets/base",
            "_view_module_version": "1.2.0",
            "_view_name": "LayoutView",
            "align_content": null,
            "align_items": null,
            "align_self": null,
            "border": null,
            "bottom": null,
            "display": null,
            "flex": null,
            "flex_flow": null,
            "grid_area": null,
            "grid_auto_columns": null,
            "grid_auto_flow": null,
            "grid_auto_rows": null,
            "grid_column": null,
            "grid_gap": null,
            "grid_row": null,
            "grid_template_areas": null,
            "grid_template_columns": null,
            "grid_template_rows": null,
            "height": null,
            "justify_content": null,
            "justify_items": null,
            "left": null,
            "margin": null,
            "max_height": null,
            "max_width": null,
            "min_height": null,
            "min_width": null,
            "object_fit": null,
            "object_position": null,
            "order": null,
            "overflow": null,
            "overflow_x": null,
            "overflow_y": null,
            "padding": null,
            "right": null,
            "top": null,
            "visibility": null,
            "width": null
          }
        },
        "4d4cad63d19e4783adbb198c43423fc0": {
          "model_module": "@jupyter-widgets/controls",
          "model_name": "ProgressStyleModel",
          "model_module_version": "1.5.0",
          "state": {
            "_model_module": "@jupyter-widgets/controls",
            "_model_module_version": "1.5.0",
            "_model_name": "ProgressStyleModel",
            "_view_count": null,
            "_view_module": "@jupyter-widgets/base",
            "_view_module_version": "1.2.0",
            "_view_name": "StyleView",
            "bar_color": null,
            "description_width": ""
          }
        },
        "e21f6de6c0994f46beeaff2c83493e63": {
          "model_module": "@jupyter-widgets/base",
          "model_name": "LayoutModel",
          "model_module_version": "1.2.0",
          "state": {
            "_model_module": "@jupyter-widgets/base",
            "_model_module_version": "1.2.0",
            "_model_name": "LayoutModel",
            "_view_count": null,
            "_view_module": "@jupyter-widgets/base",
            "_view_module_version": "1.2.0",
            "_view_name": "LayoutView",
            "align_content": null,
            "align_items": null,
            "align_self": null,
            "border": null,
            "bottom": null,
            "display": null,
            "flex": null,
            "flex_flow": null,
            "grid_area": null,
            "grid_auto_columns": null,
            "grid_auto_flow": null,
            "grid_auto_rows": null,
            "grid_column": null,
            "grid_gap": null,
            "grid_row": null,
            "grid_template_areas": null,
            "grid_template_columns": null,
            "grid_template_rows": null,
            "height": null,
            "justify_content": null,
            "justify_items": null,
            "left": null,
            "margin": null,
            "max_height": null,
            "max_width": null,
            "min_height": null,
            "min_width": null,
            "object_fit": null,
            "object_position": null,
            "order": null,
            "overflow": null,
            "overflow_x": null,
            "overflow_y": null,
            "padding": null,
            "right": null,
            "top": null,
            "visibility": null,
            "width": null
          }
        },
        "39238083cde042fdafc41b4457b8b9e1": {
          "model_module": "@jupyter-widgets/controls",
          "model_name": "DescriptionStyleModel",
          "model_module_version": "1.5.0",
          "state": {
            "_model_module": "@jupyter-widgets/controls",
            "_model_module_version": "1.5.0",
            "_model_name": "DescriptionStyleModel",
            "_view_count": null,
            "_view_module": "@jupyter-widgets/base",
            "_view_module_version": "1.2.0",
            "_view_name": "StyleView",
            "description_width": ""
          }
        },
        "2aa3bd8738794858b7ace0cc528db5ca": {
          "model_module": "@jupyter-widgets/controls",
          "model_name": "HBoxModel",
          "model_module_version": "1.5.0",
          "state": {
            "_dom_classes": [],
            "_model_module": "@jupyter-widgets/controls",
            "_model_module_version": "1.5.0",
            "_model_name": "HBoxModel",
            "_view_count": null,
            "_view_module": "@jupyter-widgets/controls",
            "_view_module_version": "1.5.0",
            "_view_name": "HBoxView",
            "box_style": "",
            "children": [
              "IPY_MODEL_07f0cdfa0c634974abb1abf870fded9c",
              "IPY_MODEL_3c49a4a0489f429db0042f7f525250c4",
              "IPY_MODEL_d6a9c6bf6ce444b792f8f3c388fb66d5"
            ],
            "layout": "IPY_MODEL_c467ce1bdd3641bba5870d9ae35809c0"
          }
        },
        "07f0cdfa0c634974abb1abf870fded9c": {
          "model_module": "@jupyter-widgets/controls",
          "model_name": "HTMLModel",
          "model_module_version": "1.5.0",
          "state": {
            "_dom_classes": [],
            "_model_module": "@jupyter-widgets/controls",
            "_model_module_version": "1.5.0",
            "_model_name": "HTMLModel",
            "_view_count": null,
            "_view_module": "@jupyter-widgets/controls",
            "_view_module_version": "1.5.0",
            "_view_name": "HTMLView",
            "description": "",
            "description_tooltip": null,
            "layout": "IPY_MODEL_2321d20db3464feaa5d7b8ae93f69f69",
            "placeholder": "​",
            "style": "IPY_MODEL_fde654fccde64c0c8dd734b376567768",
            "value": "tokenizer_config.json: 100%"
          }
        },
        "3c49a4a0489f429db0042f7f525250c4": {
          "model_module": "@jupyter-widgets/controls",
          "model_name": "FloatProgressModel",
          "model_module_version": "1.5.0",
          "state": {
            "_dom_classes": [],
            "_model_module": "@jupyter-widgets/controls",
            "_model_module_version": "1.5.0",
            "_model_name": "FloatProgressModel",
            "_view_count": null,
            "_view_module": "@jupyter-widgets/controls",
            "_view_module_version": "1.5.0",
            "_view_name": "ProgressView",
            "bar_style": "success",
            "description": "",
            "description_tooltip": null,
            "layout": "IPY_MODEL_6e4edfa2ae9c4ac6af6b63987903731e",
            "max": 26,
            "min": 0,
            "orientation": "horizontal",
            "style": "IPY_MODEL_201140b6df2748799773f5f0365f0776",
            "value": 26
          }
        },
        "d6a9c6bf6ce444b792f8f3c388fb66d5": {
          "model_module": "@jupyter-widgets/controls",
          "model_name": "HTMLModel",
          "model_module_version": "1.5.0",
          "state": {
            "_dom_classes": [],
            "_model_module": "@jupyter-widgets/controls",
            "_model_module_version": "1.5.0",
            "_model_name": "HTMLModel",
            "_view_count": null,
            "_view_module": "@jupyter-widgets/controls",
            "_view_module_version": "1.5.0",
            "_view_name": "HTMLView",
            "description": "",
            "description_tooltip": null,
            "layout": "IPY_MODEL_9fe966332ab44c068e85e88b22477be8",
            "placeholder": "​",
            "style": "IPY_MODEL_7acac68652644a6c9f9e560fef610cc0",
            "value": " 26.0/26.0 [00:00&lt;00:00, 1.74kB/s]"
          }
        },
        "c467ce1bdd3641bba5870d9ae35809c0": {
          "model_module": "@jupyter-widgets/base",
          "model_name": "LayoutModel",
          "model_module_version": "1.2.0",
          "state": {
            "_model_module": "@jupyter-widgets/base",
            "_model_module_version": "1.2.0",
            "_model_name": "LayoutModel",
            "_view_count": null,
            "_view_module": "@jupyter-widgets/base",
            "_view_module_version": "1.2.0",
            "_view_name": "LayoutView",
            "align_content": null,
            "align_items": null,
            "align_self": null,
            "border": null,
            "bottom": null,
            "display": null,
            "flex": null,
            "flex_flow": null,
            "grid_area": null,
            "grid_auto_columns": null,
            "grid_auto_flow": null,
            "grid_auto_rows": null,
            "grid_column": null,
            "grid_gap": null,
            "grid_row": null,
            "grid_template_areas": null,
            "grid_template_columns": null,
            "grid_template_rows": null,
            "height": null,
            "justify_content": null,
            "justify_items": null,
            "left": null,
            "margin": null,
            "max_height": null,
            "max_width": null,
            "min_height": null,
            "min_width": null,
            "object_fit": null,
            "object_position": null,
            "order": null,
            "overflow": null,
            "overflow_x": null,
            "overflow_y": null,
            "padding": null,
            "right": null,
            "top": null,
            "visibility": null,
            "width": null
          }
        },
        "2321d20db3464feaa5d7b8ae93f69f69": {
          "model_module": "@jupyter-widgets/base",
          "model_name": "LayoutModel",
          "model_module_version": "1.2.0",
          "state": {
            "_model_module": "@jupyter-widgets/base",
            "_model_module_version": "1.2.0",
            "_model_name": "LayoutModel",
            "_view_count": null,
            "_view_module": "@jupyter-widgets/base",
            "_view_module_version": "1.2.0",
            "_view_name": "LayoutView",
            "align_content": null,
            "align_items": null,
            "align_self": null,
            "border": null,
            "bottom": null,
            "display": null,
            "flex": null,
            "flex_flow": null,
            "grid_area": null,
            "grid_auto_columns": null,
            "grid_auto_flow": null,
            "grid_auto_rows": null,
            "grid_column": null,
            "grid_gap": null,
            "grid_row": null,
            "grid_template_areas": null,
            "grid_template_columns": null,
            "grid_template_rows": null,
            "height": null,
            "justify_content": null,
            "justify_items": null,
            "left": null,
            "margin": null,
            "max_height": null,
            "max_width": null,
            "min_height": null,
            "min_width": null,
            "object_fit": null,
            "object_position": null,
            "order": null,
            "overflow": null,
            "overflow_x": null,
            "overflow_y": null,
            "padding": null,
            "right": null,
            "top": null,
            "visibility": null,
            "width": null
          }
        },
        "fde654fccde64c0c8dd734b376567768": {
          "model_module": "@jupyter-widgets/controls",
          "model_name": "DescriptionStyleModel",
          "model_module_version": "1.5.0",
          "state": {
            "_model_module": "@jupyter-widgets/controls",
            "_model_module_version": "1.5.0",
            "_model_name": "DescriptionStyleModel",
            "_view_count": null,
            "_view_module": "@jupyter-widgets/base",
            "_view_module_version": "1.2.0",
            "_view_name": "StyleView",
            "description_width": ""
          }
        },
        "6e4edfa2ae9c4ac6af6b63987903731e": {
          "model_module": "@jupyter-widgets/base",
          "model_name": "LayoutModel",
          "model_module_version": "1.2.0",
          "state": {
            "_model_module": "@jupyter-widgets/base",
            "_model_module_version": "1.2.0",
            "_model_name": "LayoutModel",
            "_view_count": null,
            "_view_module": "@jupyter-widgets/base",
            "_view_module_version": "1.2.0",
            "_view_name": "LayoutView",
            "align_content": null,
            "align_items": null,
            "align_self": null,
            "border": null,
            "bottom": null,
            "display": null,
            "flex": null,
            "flex_flow": null,
            "grid_area": null,
            "grid_auto_columns": null,
            "grid_auto_flow": null,
            "grid_auto_rows": null,
            "grid_column": null,
            "grid_gap": null,
            "grid_row": null,
            "grid_template_areas": null,
            "grid_template_columns": null,
            "grid_template_rows": null,
            "height": null,
            "justify_content": null,
            "justify_items": null,
            "left": null,
            "margin": null,
            "max_height": null,
            "max_width": null,
            "min_height": null,
            "min_width": null,
            "object_fit": null,
            "object_position": null,
            "order": null,
            "overflow": null,
            "overflow_x": null,
            "overflow_y": null,
            "padding": null,
            "right": null,
            "top": null,
            "visibility": null,
            "width": null
          }
        },
        "201140b6df2748799773f5f0365f0776": {
          "model_module": "@jupyter-widgets/controls",
          "model_name": "ProgressStyleModel",
          "model_module_version": "1.5.0",
          "state": {
            "_model_module": "@jupyter-widgets/controls",
            "_model_module_version": "1.5.0",
            "_model_name": "ProgressStyleModel",
            "_view_count": null,
            "_view_module": "@jupyter-widgets/base",
            "_view_module_version": "1.2.0",
            "_view_name": "StyleView",
            "bar_color": null,
            "description_width": ""
          }
        },
        "9fe966332ab44c068e85e88b22477be8": {
          "model_module": "@jupyter-widgets/base",
          "model_name": "LayoutModel",
          "model_module_version": "1.2.0",
          "state": {
            "_model_module": "@jupyter-widgets/base",
            "_model_module_version": "1.2.0",
            "_model_name": "LayoutModel",
            "_view_count": null,
            "_view_module": "@jupyter-widgets/base",
            "_view_module_version": "1.2.0",
            "_view_name": "LayoutView",
            "align_content": null,
            "align_items": null,
            "align_self": null,
            "border": null,
            "bottom": null,
            "display": null,
            "flex": null,
            "flex_flow": null,
            "grid_area": null,
            "grid_auto_columns": null,
            "grid_auto_flow": null,
            "grid_auto_rows": null,
            "grid_column": null,
            "grid_gap": null,
            "grid_row": null,
            "grid_template_areas": null,
            "grid_template_columns": null,
            "grid_template_rows": null,
            "height": null,
            "justify_content": null,
            "justify_items": null,
            "left": null,
            "margin": null,
            "max_height": null,
            "max_width": null,
            "min_height": null,
            "min_width": null,
            "object_fit": null,
            "object_position": null,
            "order": null,
            "overflow": null,
            "overflow_x": null,
            "overflow_y": null,
            "padding": null,
            "right": null,
            "top": null,
            "visibility": null,
            "width": null
          }
        },
        "7acac68652644a6c9f9e560fef610cc0": {
          "model_module": "@jupyter-widgets/controls",
          "model_name": "DescriptionStyleModel",
          "model_module_version": "1.5.0",
          "state": {
            "_model_module": "@jupyter-widgets/controls",
            "_model_module_version": "1.5.0",
            "_model_name": "DescriptionStyleModel",
            "_view_count": null,
            "_view_module": "@jupyter-widgets/base",
            "_view_module_version": "1.2.0",
            "_view_name": "StyleView",
            "description_width": ""
          }
        },
        "8578784378ff4e7aa13a03196b985717": {
          "model_module": "@jupyter-widgets/controls",
          "model_name": "HBoxModel",
          "model_module_version": "1.5.0",
          "state": {
            "_dom_classes": [],
            "_model_module": "@jupyter-widgets/controls",
            "_model_module_version": "1.5.0",
            "_model_name": "HBoxModel",
            "_view_count": null,
            "_view_module": "@jupyter-widgets/controls",
            "_view_module_version": "1.5.0",
            "_view_name": "HBoxView",
            "box_style": "",
            "children": [
              "IPY_MODEL_22feff6afd104022878d7c49fb627a0f",
              "IPY_MODEL_242ade9f839f4caeb7ec8f0cd58bc216",
              "IPY_MODEL_268b85041e564333aa567f4250730845"
            ],
            "layout": "IPY_MODEL_9b957aa8adc643efaad9da739260d663"
          }
        },
        "22feff6afd104022878d7c49fb627a0f": {
          "model_module": "@jupyter-widgets/controls",
          "model_name": "HTMLModel",
          "model_module_version": "1.5.0",
          "state": {
            "_dom_classes": [],
            "_model_module": "@jupyter-widgets/controls",
            "_model_module_version": "1.5.0",
            "_model_name": "HTMLModel",
            "_view_count": null,
            "_view_module": "@jupyter-widgets/controls",
            "_view_module_version": "1.5.0",
            "_view_name": "HTMLView",
            "description": "",
            "description_tooltip": null,
            "layout": "IPY_MODEL_bd4e23f4a1104131904eeda9eb6f793e",
            "placeholder": "​",
            "style": "IPY_MODEL_41124a2ab2434bbebfcb7d316ec3a32f",
            "value": "vocab.json: 100%"
          }
        },
        "242ade9f839f4caeb7ec8f0cd58bc216": {
          "model_module": "@jupyter-widgets/controls",
          "model_name": "FloatProgressModel",
          "model_module_version": "1.5.0",
          "state": {
            "_dom_classes": [],
            "_model_module": "@jupyter-widgets/controls",
            "_model_module_version": "1.5.0",
            "_model_name": "FloatProgressModel",
            "_view_count": null,
            "_view_module": "@jupyter-widgets/controls",
            "_view_module_version": "1.5.0",
            "_view_name": "ProgressView",
            "bar_style": "success",
            "description": "",
            "description_tooltip": null,
            "layout": "IPY_MODEL_c56917565be0427b94f97f31e2ad6a5d",
            "max": 898822,
            "min": 0,
            "orientation": "horizontal",
            "style": "IPY_MODEL_3ec7eff02b2646109910b73976874ac8",
            "value": 898822
          }
        },
        "268b85041e564333aa567f4250730845": {
          "model_module": "@jupyter-widgets/controls",
          "model_name": "HTMLModel",
          "model_module_version": "1.5.0",
          "state": {
            "_dom_classes": [],
            "_model_module": "@jupyter-widgets/controls",
            "_model_module_version": "1.5.0",
            "_model_name": "HTMLModel",
            "_view_count": null,
            "_view_module": "@jupyter-widgets/controls",
            "_view_module_version": "1.5.0",
            "_view_name": "HTMLView",
            "description": "",
            "description_tooltip": null,
            "layout": "IPY_MODEL_37403f65b61a472a93b6f0e741d94855",
            "placeholder": "​",
            "style": "IPY_MODEL_e02b8c17231e4d1d9efeb285c956b4a7",
            "value": " 899k/899k [00:00&lt;00:00, 12.7MB/s]"
          }
        },
        "9b957aa8adc643efaad9da739260d663": {
          "model_module": "@jupyter-widgets/base",
          "model_name": "LayoutModel",
          "model_module_version": "1.2.0",
          "state": {
            "_model_module": "@jupyter-widgets/base",
            "_model_module_version": "1.2.0",
            "_model_name": "LayoutModel",
            "_view_count": null,
            "_view_module": "@jupyter-widgets/base",
            "_view_module_version": "1.2.0",
            "_view_name": "LayoutView",
            "align_content": null,
            "align_items": null,
            "align_self": null,
            "border": null,
            "bottom": null,
            "display": null,
            "flex": null,
            "flex_flow": null,
            "grid_area": null,
            "grid_auto_columns": null,
            "grid_auto_flow": null,
            "grid_auto_rows": null,
            "grid_column": null,
            "grid_gap": null,
            "grid_row": null,
            "grid_template_areas": null,
            "grid_template_columns": null,
            "grid_template_rows": null,
            "height": null,
            "justify_content": null,
            "justify_items": null,
            "left": null,
            "margin": null,
            "max_height": null,
            "max_width": null,
            "min_height": null,
            "min_width": null,
            "object_fit": null,
            "object_position": null,
            "order": null,
            "overflow": null,
            "overflow_x": null,
            "overflow_y": null,
            "padding": null,
            "right": null,
            "top": null,
            "visibility": null,
            "width": null
          }
        },
        "bd4e23f4a1104131904eeda9eb6f793e": {
          "model_module": "@jupyter-widgets/base",
          "model_name": "LayoutModel",
          "model_module_version": "1.2.0",
          "state": {
            "_model_module": "@jupyter-widgets/base",
            "_model_module_version": "1.2.0",
            "_model_name": "LayoutModel",
            "_view_count": null,
            "_view_module": "@jupyter-widgets/base",
            "_view_module_version": "1.2.0",
            "_view_name": "LayoutView",
            "align_content": null,
            "align_items": null,
            "align_self": null,
            "border": null,
            "bottom": null,
            "display": null,
            "flex": null,
            "flex_flow": null,
            "grid_area": null,
            "grid_auto_columns": null,
            "grid_auto_flow": null,
            "grid_auto_rows": null,
            "grid_column": null,
            "grid_gap": null,
            "grid_row": null,
            "grid_template_areas": null,
            "grid_template_columns": null,
            "grid_template_rows": null,
            "height": null,
            "justify_content": null,
            "justify_items": null,
            "left": null,
            "margin": null,
            "max_height": null,
            "max_width": null,
            "min_height": null,
            "min_width": null,
            "object_fit": null,
            "object_position": null,
            "order": null,
            "overflow": null,
            "overflow_x": null,
            "overflow_y": null,
            "padding": null,
            "right": null,
            "top": null,
            "visibility": null,
            "width": null
          }
        },
        "41124a2ab2434bbebfcb7d316ec3a32f": {
          "model_module": "@jupyter-widgets/controls",
          "model_name": "DescriptionStyleModel",
          "model_module_version": "1.5.0",
          "state": {
            "_model_module": "@jupyter-widgets/controls",
            "_model_module_version": "1.5.0",
            "_model_name": "DescriptionStyleModel",
            "_view_count": null,
            "_view_module": "@jupyter-widgets/base",
            "_view_module_version": "1.2.0",
            "_view_name": "StyleView",
            "description_width": ""
          }
        },
        "c56917565be0427b94f97f31e2ad6a5d": {
          "model_module": "@jupyter-widgets/base",
          "model_name": "LayoutModel",
          "model_module_version": "1.2.0",
          "state": {
            "_model_module": "@jupyter-widgets/base",
            "_model_module_version": "1.2.0",
            "_model_name": "LayoutModel",
            "_view_count": null,
            "_view_module": "@jupyter-widgets/base",
            "_view_module_version": "1.2.0",
            "_view_name": "LayoutView",
            "align_content": null,
            "align_items": null,
            "align_self": null,
            "border": null,
            "bottom": null,
            "display": null,
            "flex": null,
            "flex_flow": null,
            "grid_area": null,
            "grid_auto_columns": null,
            "grid_auto_flow": null,
            "grid_auto_rows": null,
            "grid_column": null,
            "grid_gap": null,
            "grid_row": null,
            "grid_template_areas": null,
            "grid_template_columns": null,
            "grid_template_rows": null,
            "height": null,
            "justify_content": null,
            "justify_items": null,
            "left": null,
            "margin": null,
            "max_height": null,
            "max_width": null,
            "min_height": null,
            "min_width": null,
            "object_fit": null,
            "object_position": null,
            "order": null,
            "overflow": null,
            "overflow_x": null,
            "overflow_y": null,
            "padding": null,
            "right": null,
            "top": null,
            "visibility": null,
            "width": null
          }
        },
        "3ec7eff02b2646109910b73976874ac8": {
          "model_module": "@jupyter-widgets/controls",
          "model_name": "ProgressStyleModel",
          "model_module_version": "1.5.0",
          "state": {
            "_model_module": "@jupyter-widgets/controls",
            "_model_module_version": "1.5.0",
            "_model_name": "ProgressStyleModel",
            "_view_count": null,
            "_view_module": "@jupyter-widgets/base",
            "_view_module_version": "1.2.0",
            "_view_name": "StyleView",
            "bar_color": null,
            "description_width": ""
          }
        },
        "37403f65b61a472a93b6f0e741d94855": {
          "model_module": "@jupyter-widgets/base",
          "model_name": "LayoutModel",
          "model_module_version": "1.2.0",
          "state": {
            "_model_module": "@jupyter-widgets/base",
            "_model_module_version": "1.2.0",
            "_model_name": "LayoutModel",
            "_view_count": null,
            "_view_module": "@jupyter-widgets/base",
            "_view_module_version": "1.2.0",
            "_view_name": "LayoutView",
            "align_content": null,
            "align_items": null,
            "align_self": null,
            "border": null,
            "bottom": null,
            "display": null,
            "flex": null,
            "flex_flow": null,
            "grid_area": null,
            "grid_auto_columns": null,
            "grid_auto_flow": null,
            "grid_auto_rows": null,
            "grid_column": null,
            "grid_gap": null,
            "grid_row": null,
            "grid_template_areas": null,
            "grid_template_columns": null,
            "grid_template_rows": null,
            "height": null,
            "justify_content": null,
            "justify_items": null,
            "left": null,
            "margin": null,
            "max_height": null,
            "max_width": null,
            "min_height": null,
            "min_width": null,
            "object_fit": null,
            "object_position": null,
            "order": null,
            "overflow": null,
            "overflow_x": null,
            "overflow_y": null,
            "padding": null,
            "right": null,
            "top": null,
            "visibility": null,
            "width": null
          }
        },
        "e02b8c17231e4d1d9efeb285c956b4a7": {
          "model_module": "@jupyter-widgets/controls",
          "model_name": "DescriptionStyleModel",
          "model_module_version": "1.5.0",
          "state": {
            "_model_module": "@jupyter-widgets/controls",
            "_model_module_version": "1.5.0",
            "_model_name": "DescriptionStyleModel",
            "_view_count": null,
            "_view_module": "@jupyter-widgets/base",
            "_view_module_version": "1.2.0",
            "_view_name": "StyleView",
            "description_width": ""
          }
        },
        "45c682238b424b14a4f519be25fb1908": {
          "model_module": "@jupyter-widgets/controls",
          "model_name": "HBoxModel",
          "model_module_version": "1.5.0",
          "state": {
            "_dom_classes": [],
            "_model_module": "@jupyter-widgets/controls",
            "_model_module_version": "1.5.0",
            "_model_name": "HBoxModel",
            "_view_count": null,
            "_view_module": "@jupyter-widgets/controls",
            "_view_module_version": "1.5.0",
            "_view_name": "HBoxView",
            "box_style": "",
            "children": [
              "IPY_MODEL_a5204fda625b4960ae672cea7e0ffd9a",
              "IPY_MODEL_88feb7cf773949dca439b43d03c1f4c0",
              "IPY_MODEL_01b6906f8ab8479cb1f1c8c76eb96bde"
            ],
            "layout": "IPY_MODEL_735459ca2b064c03a6ae6c2712d519bc"
          }
        },
        "a5204fda625b4960ae672cea7e0ffd9a": {
          "model_module": "@jupyter-widgets/controls",
          "model_name": "HTMLModel",
          "model_module_version": "1.5.0",
          "state": {
            "_dom_classes": [],
            "_model_module": "@jupyter-widgets/controls",
            "_model_module_version": "1.5.0",
            "_model_name": "HTMLModel",
            "_view_count": null,
            "_view_module": "@jupyter-widgets/controls",
            "_view_module_version": "1.5.0",
            "_view_name": "HTMLView",
            "description": "",
            "description_tooltip": null,
            "layout": "IPY_MODEL_f757391bff614dcaac1209858ff2af4a",
            "placeholder": "​",
            "style": "IPY_MODEL_d52d9ba9cd4d488792a4b358662bb551",
            "value": "merges.txt: 100%"
          }
        },
        "88feb7cf773949dca439b43d03c1f4c0": {
          "model_module": "@jupyter-widgets/controls",
          "model_name": "FloatProgressModel",
          "model_module_version": "1.5.0",
          "state": {
            "_dom_classes": [],
            "_model_module": "@jupyter-widgets/controls",
            "_model_module_version": "1.5.0",
            "_model_name": "FloatProgressModel",
            "_view_count": null,
            "_view_module": "@jupyter-widgets/controls",
            "_view_module_version": "1.5.0",
            "_view_name": "ProgressView",
            "bar_style": "success",
            "description": "",
            "description_tooltip": null,
            "layout": "IPY_MODEL_1f3f19ada5e94948839e11ca1940368d",
            "max": 456318,
            "min": 0,
            "orientation": "horizontal",
            "style": "IPY_MODEL_ea159c98de354912bccdcceffd755993",
            "value": 456318
          }
        },
        "01b6906f8ab8479cb1f1c8c76eb96bde": {
          "model_module": "@jupyter-widgets/controls",
          "model_name": "HTMLModel",
          "model_module_version": "1.5.0",
          "state": {
            "_dom_classes": [],
            "_model_module": "@jupyter-widgets/controls",
            "_model_module_version": "1.5.0",
            "_model_name": "HTMLModel",
            "_view_count": null,
            "_view_module": "@jupyter-widgets/controls",
            "_view_module_version": "1.5.0",
            "_view_name": "HTMLView",
            "description": "",
            "description_tooltip": null,
            "layout": "IPY_MODEL_07622e6fa8634ef8a81dc21ee9bd9f26",
            "placeholder": "​",
            "style": "IPY_MODEL_79212ae6da78487eba77e8d681b93f28",
            "value": " 456k/456k [00:00&lt;00:00, 7.75MB/s]"
          }
        },
        "735459ca2b064c03a6ae6c2712d519bc": {
          "model_module": "@jupyter-widgets/base",
          "model_name": "LayoutModel",
          "model_module_version": "1.2.0",
          "state": {
            "_model_module": "@jupyter-widgets/base",
            "_model_module_version": "1.2.0",
            "_model_name": "LayoutModel",
            "_view_count": null,
            "_view_module": "@jupyter-widgets/base",
            "_view_module_version": "1.2.0",
            "_view_name": "LayoutView",
            "align_content": null,
            "align_items": null,
            "align_self": null,
            "border": null,
            "bottom": null,
            "display": null,
            "flex": null,
            "flex_flow": null,
            "grid_area": null,
            "grid_auto_columns": null,
            "grid_auto_flow": null,
            "grid_auto_rows": null,
            "grid_column": null,
            "grid_gap": null,
            "grid_row": null,
            "grid_template_areas": null,
            "grid_template_columns": null,
            "grid_template_rows": null,
            "height": null,
            "justify_content": null,
            "justify_items": null,
            "left": null,
            "margin": null,
            "max_height": null,
            "max_width": null,
            "min_height": null,
            "min_width": null,
            "object_fit": null,
            "object_position": null,
            "order": null,
            "overflow": null,
            "overflow_x": null,
            "overflow_y": null,
            "padding": null,
            "right": null,
            "top": null,
            "visibility": null,
            "width": null
          }
        },
        "f757391bff614dcaac1209858ff2af4a": {
          "model_module": "@jupyter-widgets/base",
          "model_name": "LayoutModel",
          "model_module_version": "1.2.0",
          "state": {
            "_model_module": "@jupyter-widgets/base",
            "_model_module_version": "1.2.0",
            "_model_name": "LayoutModel",
            "_view_count": null,
            "_view_module": "@jupyter-widgets/base",
            "_view_module_version": "1.2.0",
            "_view_name": "LayoutView",
            "align_content": null,
            "align_items": null,
            "align_self": null,
            "border": null,
            "bottom": null,
            "display": null,
            "flex": null,
            "flex_flow": null,
            "grid_area": null,
            "grid_auto_columns": null,
            "grid_auto_flow": null,
            "grid_auto_rows": null,
            "grid_column": null,
            "grid_gap": null,
            "grid_row": null,
            "grid_template_areas": null,
            "grid_template_columns": null,
            "grid_template_rows": null,
            "height": null,
            "justify_content": null,
            "justify_items": null,
            "left": null,
            "margin": null,
            "max_height": null,
            "max_width": null,
            "min_height": null,
            "min_width": null,
            "object_fit": null,
            "object_position": null,
            "order": null,
            "overflow": null,
            "overflow_x": null,
            "overflow_y": null,
            "padding": null,
            "right": null,
            "top": null,
            "visibility": null,
            "width": null
          }
        },
        "d52d9ba9cd4d488792a4b358662bb551": {
          "model_module": "@jupyter-widgets/controls",
          "model_name": "DescriptionStyleModel",
          "model_module_version": "1.5.0",
          "state": {
            "_model_module": "@jupyter-widgets/controls",
            "_model_module_version": "1.5.0",
            "_model_name": "DescriptionStyleModel",
            "_view_count": null,
            "_view_module": "@jupyter-widgets/base",
            "_view_module_version": "1.2.0",
            "_view_name": "StyleView",
            "description_width": ""
          }
        },
        "1f3f19ada5e94948839e11ca1940368d": {
          "model_module": "@jupyter-widgets/base",
          "model_name": "LayoutModel",
          "model_module_version": "1.2.0",
          "state": {
            "_model_module": "@jupyter-widgets/base",
            "_model_module_version": "1.2.0",
            "_model_name": "LayoutModel",
            "_view_count": null,
            "_view_module": "@jupyter-widgets/base",
            "_view_module_version": "1.2.0",
            "_view_name": "LayoutView",
            "align_content": null,
            "align_items": null,
            "align_self": null,
            "border": null,
            "bottom": null,
            "display": null,
            "flex": null,
            "flex_flow": null,
            "grid_area": null,
            "grid_auto_columns": null,
            "grid_auto_flow": null,
            "grid_auto_rows": null,
            "grid_column": null,
            "grid_gap": null,
            "grid_row": null,
            "grid_template_areas": null,
            "grid_template_columns": null,
            "grid_template_rows": null,
            "height": null,
            "justify_content": null,
            "justify_items": null,
            "left": null,
            "margin": null,
            "max_height": null,
            "max_width": null,
            "min_height": null,
            "min_width": null,
            "object_fit": null,
            "object_position": null,
            "order": null,
            "overflow": null,
            "overflow_x": null,
            "overflow_y": null,
            "padding": null,
            "right": null,
            "top": null,
            "visibility": null,
            "width": null
          }
        },
        "ea159c98de354912bccdcceffd755993": {
          "model_module": "@jupyter-widgets/controls",
          "model_name": "ProgressStyleModel",
          "model_module_version": "1.5.0",
          "state": {
            "_model_module": "@jupyter-widgets/controls",
            "_model_module_version": "1.5.0",
            "_model_name": "ProgressStyleModel",
            "_view_count": null,
            "_view_module": "@jupyter-widgets/base",
            "_view_module_version": "1.2.0",
            "_view_name": "StyleView",
            "bar_color": null,
            "description_width": ""
          }
        },
        "07622e6fa8634ef8a81dc21ee9bd9f26": {
          "model_module": "@jupyter-widgets/base",
          "model_name": "LayoutModel",
          "model_module_version": "1.2.0",
          "state": {
            "_model_module": "@jupyter-widgets/base",
            "_model_module_version": "1.2.0",
            "_model_name": "LayoutModel",
            "_view_count": null,
            "_view_module": "@jupyter-widgets/base",
            "_view_module_version": "1.2.0",
            "_view_name": "LayoutView",
            "align_content": null,
            "align_items": null,
            "align_self": null,
            "border": null,
            "bottom": null,
            "display": null,
            "flex": null,
            "flex_flow": null,
            "grid_area": null,
            "grid_auto_columns": null,
            "grid_auto_flow": null,
            "grid_auto_rows": null,
            "grid_column": null,
            "grid_gap": null,
            "grid_row": null,
            "grid_template_areas": null,
            "grid_template_columns": null,
            "grid_template_rows": null,
            "height": null,
            "justify_content": null,
            "justify_items": null,
            "left": null,
            "margin": null,
            "max_height": null,
            "max_width": null,
            "min_height": null,
            "min_width": null,
            "object_fit": null,
            "object_position": null,
            "order": null,
            "overflow": null,
            "overflow_x": null,
            "overflow_y": null,
            "padding": null,
            "right": null,
            "top": null,
            "visibility": null,
            "width": null
          }
        },
        "79212ae6da78487eba77e8d681b93f28": {
          "model_module": "@jupyter-widgets/controls",
          "model_name": "DescriptionStyleModel",
          "model_module_version": "1.5.0",
          "state": {
            "_model_module": "@jupyter-widgets/controls",
            "_model_module_version": "1.5.0",
            "_model_name": "DescriptionStyleModel",
            "_view_count": null,
            "_view_module": "@jupyter-widgets/base",
            "_view_module_version": "1.2.0",
            "_view_name": "StyleView",
            "description_width": ""
          }
        }
      }
    }
  },
  "cells": [
    {
      "cell_type": "markdown",
      "metadata": {
        "id": "view-in-github",
        "colab_type": "text"
      },
      "source": [
        "<a href=\"https://colab.research.google.com/github/abhisheksaha28/YTvideoSummarizer/blob/main/YTvideo_Summarizer.ipynb\" target=\"_parent\"><img src=\"https://colab.research.google.com/assets/colab-badge.svg\" alt=\"Open In Colab\"/></a>"
      ]
    },
    {
      "cell_type": "code",
      "execution_count": 1,
      "metadata": {
        "id": "9RJBGOM6u5AP"
      },
      "outputs": [],
      "source": [
        "#import required packges\n",
        "!pip install -q transformers\n",
        "!pip install -q youtube_transcript_api #this is responsible for that auto-subtitiles in yt video"
      ]
    },
    {
      "cell_type": "code",
      "source": [
        "#import reqd instances\n",
        "from transformers import pipeline\n",
        "#pipeline is where we define what type of text task we want to do,here we want to do summarization, other cases may be text classification,etc,etc\n",
        "\n",
        "from youtube_transcript_api import YouTubeTranscriptApi\n",
        "#to get the subtitles\n"
      ],
      "metadata": {
        "id": "-uTDnLdOvUPv"
      },
      "execution_count": 2,
      "outputs": []
    },
    {
      "cell_type": "code",
      "source": [
        "#get hold of the yt video and its id\n",
        "\n",
        "#YT Video Format => https://www.youtube.com/watch?v=VIDEO_ID\n",
        "\n",
        "youtube_video = \"https://www.youtube.com/watch?v=IG0J_ynkemIg\"\n",
        "#the id after = , is the reqd video id\n",
        "video_id = youtube_video.split(\"=\")[1]\n",
        "video_id"
      ],
      "metadata": {
        "colab": {
          "base_uri": "https://localhost:8080/",
          "height": 36
        },
        "id": "qstuq_1WvkuH",
        "outputId": "0740ce5e-bcf0-41fa-cf1a-5643422336e9"
      },
      "execution_count": 30,
      "outputs": [
        {
          "output_type": "execute_result",
          "data": {
            "text/plain": [
              "'IG0J_ynkemIg'"
            ],
            "application/vnd.google.colaboratory.intrinsic+json": {
              "type": "string"
            }
          },
          "metadata": {},
          "execution_count": 30
        }
      ]
    },
    {
      "cell_type": "code",
      "source": [
        "#display the video, to confirm\n",
        "from IPython.display import YouTubeVideo\n",
        "YouTubeVideo(video_id)"
      ],
      "metadata": {
        "colab": {
          "base_uri": "https://localhost:8080/",
          "height": 322
        },
        "id": "TfIoaUczv1VC",
        "outputId": "fb037648-b87e-4e8e-dd4d-daedef6eb0c5"
      },
      "execution_count": 31,
      "outputs": [
        {
          "output_type": "execute_result",
          "data": {
            "text/plain": [
              "<IPython.lib.display.YouTubeVideo at 0x7f1d2d0779d0>"
            ],
            "text/html": [
              "\n",
              "        <iframe\n",
              "            width=\"400\"\n",
              "            height=\"300\"\n",
              "            src=\"https://www.youtube.com/embed/IG0J_ynkemIg\"\n",
              "            frameborder=\"0\"\n",
              "            allowfullscreen\n",
              "            \n",
              "        ></iframe>\n",
              "        "
            ]
          },
          "metadata": {},
          "execution_count": 31
        }
      ]
    },
    {
      "cell_type": "code",
      "source": [
        "YouTubeTranscriptApi.get_transcript(video_id)\n",
        "transcript = YouTubeTranscriptApi.get_transcript(video_id)\n",
        "\n"
      ],
      "metadata": {
        "id": "oDjFLwGmx9wC"
      },
      "execution_count": 32,
      "outputs": []
    },
    {
      "cell_type": "code",
      "source": [
        "transcript[0:5] #just for checking , we are slicing , or in simle word, we are jusst taking the 1st 5 output objects"
      ],
      "metadata": {
        "colab": {
          "base_uri": "https://localhost:8080/"
        },
        "id": "J1bcbnon4kCP",
        "outputId": "81ea5e6b-5e15-4de5-96dd-332d18e3015d"
      },
      "execution_count": 33,
      "outputs": [
        {
          "output_type": "execute_result",
          "data": {
            "text/plain": [
              "[{'text': \"hi everyone i'm aryan\", 'start': 4.799, 'duration': 4.081},\n",
              " {'text': \"and today i'm going to take you through\",\n",
              "  'start': 7.12,\n",
              "  'duration': 3.599},\n",
              " {'text': \"a project that i've made which i call\",\n",
              "  'start': 8.88,\n",
              "  'duration': 3.6},\n",
              " {'text': 'youtube summarizer', 'start': 10.719, 'duration': 4.321},\n",
              " {'text': 'what youtube summarizer is is a chrome',\n",
              "  'start': 12.48,\n",
              "  'duration': 4.639}]"
            ]
          },
          "metadata": {},
          "execution_count": 33
        }
      ]
    },
    {
      "cell_type": "markdown",
      "source": [
        "**IF THE SUBTITLES ARE IN ANY OTHER LANGUAGE RATHER THAN ENGLISH, THEY CAN BE TRNSLATED TO YOUR FAVORED LANGUAGE**\n",
        "\n",
        "Above 2 lines not reqd if you want to translate\n",
        "\n",
        "ELSE NO NEED TO RUN THE BELOW 3 LINES, JUST THE ABOVE LINES ARE ENOUGH , DIRECTLY JUMP TO THE 4TH LINE FROM HERE"
      ],
      "metadata": {
        "id": "EnXNO6qA44zw"
      }
    },
    {
      "cell_type": "code",
      "source": [
        "# IF THE AUTO GENERATRED CAPTIONS ARE IN ANY THER LANGUAGE\n",
        "transcript = YouTubeTranscriptApi.get_transcript(video_id, languages=['hi'])\n",
        " #just in the languages part, soecify the type , eg , hi=hindi / en=english /  fr=french , etc"
      ],
      "metadata": {
        "id": "qiqBZdc64dXD"
      },
      "execution_count": null,
      "outputs": []
    },
    {
      "cell_type": "markdown",
      "source": [
        "**IF YOU WANT TO CHANGE THE SUBTITLES TO ANY OTHER LANGUAGE**"
      ],
      "metadata": {
        "id": "IgvVfF1d6kXa"
      }
    },
    {
      "cell_type": "code",
      "source": [
        "#IF VIDEO SUBTITLES ARE IN OTHER LANGUAGES, YOU CAN TRANSLATE THEM TO YOUR SPECIFIED ONE\n",
        "\n",
        "\n",
        "!pip install googletrans==4.0.0-rc1 # Install googletrans library\n",
        "from googletrans import Translator # Import the Translator"
      ],
      "metadata": {
        "colab": {
          "base_uri": "https://localhost:8080/"
        },
        "id": "6pYm-f8CzO5c",
        "outputId": "f25e70bc-d868-4509-e11d-430b260f5d8e"
      },
      "execution_count": 22,
      "outputs": [
        {
          "output_type": "stream",
          "name": "stdout",
          "text": [
            "Requirement already satisfied: googletrans==4.0.0-rc1 in /usr/local/lib/python3.10/dist-packages (4.0.0rc1)\n",
            "Requirement already satisfied: httpx==0.13.3 in /usr/local/lib/python3.10/dist-packages (from googletrans==4.0.0-rc1) (0.13.3)\n",
            "Requirement already satisfied: certifi in /usr/local/lib/python3.10/dist-packages (from httpx==0.13.3->googletrans==4.0.0-rc1) (2024.6.2)\n",
            "Requirement already satisfied: hstspreload in /usr/local/lib/python3.10/dist-packages (from httpx==0.13.3->googletrans==4.0.0-rc1) (2024.7.1)\n",
            "Requirement already satisfied: sniffio in /usr/local/lib/python3.10/dist-packages (from httpx==0.13.3->googletrans==4.0.0-rc1) (1.3.1)\n",
            "Requirement already satisfied: chardet==3.* in /usr/local/lib/python3.10/dist-packages (from httpx==0.13.3->googletrans==4.0.0-rc1) (3.0.4)\n",
            "Requirement already satisfied: idna==2.* in /usr/local/lib/python3.10/dist-packages (from httpx==0.13.3->googletrans==4.0.0-rc1) (2.10)\n",
            "Requirement already satisfied: rfc3986<2,>=1.3 in /usr/local/lib/python3.10/dist-packages (from httpx==0.13.3->googletrans==4.0.0-rc1) (1.5.0)\n",
            "Requirement already satisfied: httpcore==0.9.* in /usr/local/lib/python3.10/dist-packages (from httpx==0.13.3->googletrans==4.0.0-rc1) (0.9.1)\n",
            "Requirement already satisfied: h11<0.10,>=0.8 in /usr/local/lib/python3.10/dist-packages (from httpcore==0.9.*->httpx==0.13.3->googletrans==4.0.0-rc1) (0.9.0)\n",
            "Requirement already satisfied: h2==3.* in /usr/local/lib/python3.10/dist-packages (from httpcore==0.9.*->httpx==0.13.3->googletrans==4.0.0-rc1) (3.2.0)\n",
            "Requirement already satisfied: hyperframe<6,>=5.2.0 in /usr/local/lib/python3.10/dist-packages (from h2==3.*->httpcore==0.9.*->httpx==0.13.3->googletrans==4.0.0-rc1) (5.2.0)\n",
            "Requirement already satisfied: hpack<4,>=3.0 in /usr/local/lib/python3.10/dist-packages (from h2==3.*->httpcore==0.9.*->httpx==0.13.3->googletrans==4.0.0-rc1) (3.0.0)\n"
          ]
        }
      ]
    },
    {
      "cell_type": "code",
      "source": [
        "translator = Translator()\n",
        "transcript[0:5]\n",
        "\n",
        "# Join the list of strings in the transcript into a single string\n",
        "#it can be naamed anything, the below variable\n",
        "\n",
        "hindi_text =  ' '.join([segment['text'] for segment in transcript])\n",
        "\n",
        "\n",
        "# Translate the Hindi text to English\n",
        "\n",
        "import time\n",
        "#Tranlation of the reaceived ssubtitle , intio your desired lagnguage\n",
        "# Translate the Hindi text to English\n",
        "#THE WHOLE IS BROKEN INTO CHUNKS SO THAT THE LIMIT FOR GOOGLE API DOES NOT EXCEED\n",
        "if hindi_text:\n",
        "         try:\n",
        "             # Split into chunks of 500 characters (adjust as needed)\n",
        "             chunks = [hindi_text[i:i+500] for i in range(0, len(hindi_text), 500)]\n",
        "             translated_text = \"\"\n",
        "             for chunk in chunks:\n",
        "                 translated_chunk = translator.translate(chunk, dest='en') #in dest , write your specified lang\n",
        "                 translated_text += translated_chunk.text + \" \"\n",
        "                 time.sleep(1) # Wait between chunks,so that API call can get ssome time\n",
        "             print(translated_text)\n",
        "         except Exception as e:\n",
        "             print(f\"Translation failed: {e}\")"
      ],
      "metadata": {
        "colab": {
          "base_uri": "https://localhost:8080/"
        },
        "id": "ELn_UNCYzdPz",
        "outputId": "c4133bf4-595b-4d79-bc3b-b3e18b24bb40"
      },
      "execution_count": 29,
      "outputs": [
        {
          "output_type": "stream",
          "name": "stdout",
          "text": [
            "Hello Friends Welcome to Little to Defense of What Do Rasamrit Section or Large YouTube Video Video Video Video Chance You to Front Tutorial How to Tech Transcripts of Video of Waters from YouTube Do Tech ReactionTwo do imports Question is the that Need only Need You Tube Skills Installed in VS 2.2 Important systematic for Watching This Need To Give This Transformation Pipeline This Award-Winning Pipeline that person defense What Kind of Text tweet to this pertericular for it not give equivalent you can protect classes you can protect class two a lot of things pair notification subscribe and subscribe the YouTube App and Subscribe Video Laik and YouTube Video Laik and SubscribeHeaven Divine Divine Divine YouTube Video YouTube Video and Don't Need Need Your Support Way The Video then subscribe to the page if you like the video then subscribe to the video then subscribe to the channel and ta P -on the development index, sequence remind exclusive one to take down, Songs of Doing My Video IDS Reddy What is My Video like 100 Video Lead You Can C C C What You C in The Video ID TO Awoid You Want to You Want to You To You To You To YouTwo you to you want to translate and video then subscribe to the video then subscribe to the video that we do country video this part to boys go into transcript and its winter ate to transcript Sudhir and subscribe dictionary dictionary and subscribe dictionary meins En subscribe to subscribe video subscribe it * Recorded for you and you Shold You Cip in Mind At This Point with No Purity of Water No What You Want to Lisan to Constue Into Entu Sames is this is what we do do do do do do do do do do do do do do do alsoSchool and you can c What is the subscribe button to lines for mid-day to connect with The page if you liked the video then subscribe to the page if you like the video then subscribe to typing fast inclusion by default this going to tech part-2 board model with model with moral values ​​but you want toInstitution Hard Plot Model with Google Teach You Can You All Things But You Have Spsified Friends Model Configuration Saprettly Size Different Man Match Husband will now be able to Match Husband Now Nutrient Simply Doing A Sting Operation and If You Want to Make and Dash Reservations to the Point Best Friend Yeh Fitted with a Fu Options and Finley You Can Set With What You Find the Best Sholded DR Initiatives A Empowerment and Other You Can CCE CE GATING REDUSED model model free model free mode settings download game if President Sleep Planning Deposit CelebrationOff your deploy device is voice of bus intermodal download shape samavet vow deed not to download for top model every time from Internet Witch Produce Model Local Low Please please subscribe and what we can simple use Thank you can not be very different to subscribe to this feed if Amont of the depression session lines of text by subjugating the depression of Singh and lison to the meeting at least to the vinted throw the number the number the number for poon subscribeLife and Times the subscribe and subscribe the Start 23 December and Tech Chand of the Text from this Start Trix in Kunwar District and in All Its on Right only for this Thank You Mite Not Leaves Not Leaves from this Thank you Rise and that You Emperor You Emperor Can c what a improved output deficient Sudhir and Appeal Material Tax the Undertaker and Updated to this Object Being Inchiated This At Sydney Sydney Test Switch to BIGG BOSS from Kohli to switch off the world but wild wils not giv de model of Shravan to Avot withWater to avoid Andher scenes model of birds in this video you can see seh hau to uz aid models for a video on December 20 2011 batch do the thing channel subscribe to the latest really dun a good job and agen fromSubscribe Anmute St Ring and subscribe button to college b.com that they can c hau manne words butt properly invisible listedOff the day God bless you what wood hank hank -to -different video like share and subscribe and give decorations to make videos, subscribing to the video, President Obama was subscribing to this, I am sorry and farmer president Obama TOS PEST TAILED TAILED TAINLPw Rent Video Friends You Want to New Delhi Train Running in Sea Now Arm in Back Wandering.Final Bigg Boss At This Point the Subscribe from President Barack Obama Victory Speech To Download Vidmet Vidmet Vidmet ₹ 2000 Mid-Day-Meal Subscribe to Testing Testing Sumtime Its Good Testing Sumtime Develop On Thursday, these two-do list a and jan miss you like this of transformer subscribe our YouTube skill development, on Jhal e Republic Day, Republic Day Wan Little Boy Certificate Certificate Started Printed Printed Printed Printed Printed Printed Printed Printed Every Sichar Pure TOTED TOTED TOTED TOTED TOTED TOTED TOTELRock Band This Supreme Bliss at Last Text Vihar 1275 Volume Maxum Set Samathing Also Lee Getting Award Winning Frequence December. This is the important issue size. Annian Final Let's Look At Hu is the text sand a 200 special Sri American to Participate in this election with your Water for First Time and With Earth Printed and Wine for Wine for Long Time Yar American Family Will Rise and Fall by Sunshine Software Paid Way Recovery You will not used for permission in Mathura to You will be C.Tune of Development for School Students and Subscribe Viri High Quality Subscribe Verry Good Quality Subscribe to the YouTube Video Ultimetley This makes an entertained video language used in this transformation reaction Point to that Action and Action and Gay Tu December History and Great Leaders But you can explain special events that you can see Sea in CE in Model Human Control Modifications Butt It's Size Minimum Balance Altimetalle Channel to Subscribe You in Getting Started with the Video to No IF You Tech Care of URESELF A. \n"
          ]
        }
      ]
    },
    {
      "cell_type": "markdown",
      "source": [
        "# ***TRANSLATION DONE SUCCESSFULLY***"
      ],
      "metadata": {
        "id": "XE-8L-wR6x5W"
      }
    },
    {
      "cell_type": "markdown",
      "source": [
        "### **Now as we got the subtitles, either direct as in video, or by translating , by any means , we can see that the subtitles are basically in JSON format and not in text format**\n",
        "\n",
        "\n",
        "*   first, we will iterate through each json object\n",
        "*   then we will picck up the text part only from the object\n",
        "\n",
        "\n",
        "*   then we will combine them all\n",
        "*   then finally we will summarize\n",
        "\n",
        "\n",
        "\n"
      ],
      "metadata": {
        "id": "H38yh0o3859z"
      }
    },
    {
      "cell_type": "code",
      "source": [
        "print(video_id)\n",
        "result = \"\" #the output, that we got from above\n",
        "for i in transcript:\n",
        "    result += ' ' + i['text']  #i=each JSON object , i['text]=the text part of the object\n",
        "#print the length first\n",
        "print(len(result))"
      ],
      "metadata": {
        "colab": {
          "base_uri": "https://localhost:8080/"
        },
        "id": "Yc2-vFfY64og",
        "outputId": "97ef1d5a-9494-4842-cc26-3b904bb04f83"
      },
      "execution_count": 35,
      "outputs": [
        {
          "output_type": "stream",
          "name": "stdout",
          "text": [
            "IG0J_ynkemIg\n",
            "20957\n"
          ]
        }
      ]
    },
    {
      "cell_type": "code",
      "source": [
        "#NOW WE WILL SUMMARIZE , BY USING THE SUMMARIZER PIPELINE from transformers\n",
        "summarizer = pipeline('summarization') #since nothing specified, by default, BARD model will be taken\n"
      ],
      "metadata": {
        "colab": {
          "base_uri": "https://localhost:8080/",
          "height": 371,
          "referenced_widgets": [
            "605f6d863e1e453ebb7c7f6f64aa8dd6",
            "de161ece63c34d399796fe2720116a9d",
            "0c28fb42b2ee40568076d9b384ca4db5",
            "a73bdc775ad949f4bd4efc3d413862a5",
            "09ac12b1c7e14ee5a727ff5dca40071f",
            "913ed146d1204ddeb383a64c60f610de",
            "216d565fa8224767ae627a93fa783ef4",
            "81a7411b1fd84d92943834d7fcd6ec6e",
            "bb71b4b75316455392c1a19fdbe76cdf",
            "d5db00cb6be94345b2490c6d448fa0c0",
            "16e7f06c0045495688e223d30b66544d",
            "f338e5a626e14c50b8f4b0d12fc7f365",
            "b13760aa88874f97ae0dfac60dea609c",
            "dac8138d708e47a28c75228a01cfce83",
            "eb921ba0370341dfa81254e61d174cb3",
            "c0968c12ab12433699b52c8461dc89df",
            "5c4c7fab241a483f941657248af5a8ca",
            "15b95640e297409a88287156cdcdc8d0",
            "24ce9a245373430b886439edcff47309",
            "4d4cad63d19e4783adbb198c43423fc0",
            "e21f6de6c0994f46beeaff2c83493e63",
            "39238083cde042fdafc41b4457b8b9e1",
            "2aa3bd8738794858b7ace0cc528db5ca",
            "07f0cdfa0c634974abb1abf870fded9c",
            "3c49a4a0489f429db0042f7f525250c4",
            "d6a9c6bf6ce444b792f8f3c388fb66d5",
            "c467ce1bdd3641bba5870d9ae35809c0",
            "2321d20db3464feaa5d7b8ae93f69f69",
            "fde654fccde64c0c8dd734b376567768",
            "6e4edfa2ae9c4ac6af6b63987903731e",
            "201140b6df2748799773f5f0365f0776",
            "9fe966332ab44c068e85e88b22477be8",
            "7acac68652644a6c9f9e560fef610cc0",
            "8578784378ff4e7aa13a03196b985717",
            "22feff6afd104022878d7c49fb627a0f",
            "242ade9f839f4caeb7ec8f0cd58bc216",
            "268b85041e564333aa567f4250730845",
            "9b957aa8adc643efaad9da739260d663",
            "bd4e23f4a1104131904eeda9eb6f793e",
            "41124a2ab2434bbebfcb7d316ec3a32f",
            "c56917565be0427b94f97f31e2ad6a5d",
            "3ec7eff02b2646109910b73976874ac8",
            "37403f65b61a472a93b6f0e741d94855",
            "e02b8c17231e4d1d9efeb285c956b4a7",
            "45c682238b424b14a4f519be25fb1908",
            "a5204fda625b4960ae672cea7e0ffd9a",
            "88feb7cf773949dca439b43d03c1f4c0",
            "01b6906f8ab8479cb1f1c8c76eb96bde",
            "735459ca2b064c03a6ae6c2712d519bc",
            "f757391bff614dcaac1209858ff2af4a",
            "d52d9ba9cd4d488792a4b358662bb551",
            "1f3f19ada5e94948839e11ca1940368d",
            "ea159c98de354912bccdcceffd755993",
            "07622e6fa8634ef8a81dc21ee9bd9f26",
            "79212ae6da78487eba77e8d681b93f28"
          ]
        },
        "id": "3P6Q6PRs-ZZm",
        "outputId": "21d62698-af3f-4f1e-c4a3-f0bf70b55843"
      },
      "execution_count": 36,
      "outputs": [
        {
          "output_type": "stream",
          "name": "stderr",
          "text": [
            "No model was supplied, defaulted to sshleifer/distilbart-cnn-12-6 and revision a4f8f3e (https://huggingface.co/sshleifer/distilbart-cnn-12-6).\n",
            "Using a pipeline without specifying a model name and revision in production is not recommended.\n",
            "/usr/local/lib/python3.10/dist-packages/huggingface_hub/file_download.py:1132: FutureWarning: `resume_download` is deprecated and will be removed in version 1.0.0. Downloads always resume when possible. If you want to force a new download, use `force_download=True`.\n",
            "  warnings.warn(\n",
            "/usr/local/lib/python3.10/dist-packages/huggingface_hub/utils/_token.py:89: UserWarning: \n",
            "The secret `HF_TOKEN` does not exist in your Colab secrets.\n",
            "To authenticate with the Hugging Face Hub, create a token in your settings tab (https://huggingface.co/settings/tokens), set it as secret in your Google Colab and restart your session.\n",
            "You will be able to reuse this secret in all of your notebooks.\n",
            "Please note that authentication is recommended but still optional to access public models or datasets.\n",
            "  warnings.warn(\n"
          ]
        },
        {
          "output_type": "display_data",
          "data": {
            "text/plain": [
              "config.json:   0%|          | 0.00/1.80k [00:00<?, ?B/s]"
            ],
            "application/vnd.jupyter.widget-view+json": {
              "version_major": 2,
              "version_minor": 0,
              "model_id": "605f6d863e1e453ebb7c7f6f64aa8dd6"
            }
          },
          "metadata": {}
        },
        {
          "output_type": "display_data",
          "data": {
            "text/plain": [
              "pytorch_model.bin:   0%|          | 0.00/1.22G [00:00<?, ?B/s]"
            ],
            "application/vnd.jupyter.widget-view+json": {
              "version_major": 2,
              "version_minor": 0,
              "model_id": "f338e5a626e14c50b8f4b0d12fc7f365"
            }
          },
          "metadata": {}
        },
        {
          "output_type": "display_data",
          "data": {
            "text/plain": [
              "tokenizer_config.json:   0%|          | 0.00/26.0 [00:00<?, ?B/s]"
            ],
            "application/vnd.jupyter.widget-view+json": {
              "version_major": 2,
              "version_minor": 0,
              "model_id": "2aa3bd8738794858b7ace0cc528db5ca"
            }
          },
          "metadata": {}
        },
        {
          "output_type": "display_data",
          "data": {
            "text/plain": [
              "vocab.json:   0%|          | 0.00/899k [00:00<?, ?B/s]"
            ],
            "application/vnd.jupyter.widget-view+json": {
              "version_major": 2,
              "version_minor": 0,
              "model_id": "8578784378ff4e7aa13a03196b985717"
            }
          },
          "metadata": {}
        },
        {
          "output_type": "display_data",
          "data": {
            "text/plain": [
              "merges.txt:   0%|          | 0.00/456k [00:00<?, ?B/s]"
            ],
            "application/vnd.jupyter.widget-view+json": {
              "version_major": 2,
              "version_minor": 0,
              "model_id": "45c682238b424b14a4f519be25fb1908"
            }
          },
          "metadata": {}
        }
      ]
    },
    {
      "cell_type": "code",
      "source": [
        "#LETS START SUMMARIZING\n",
        "#But they are very large texts , so lets breakdown them into chunks , andd then summarize\n",
        "\n",
        "#going to handle every 1000 lines of the code per iteration\n",
        "num_iters = int(len(result)/1000)  #no. of iterations reqd\n",
        "summarized_text = [] # empty list which will have the summarized text\n",
        "for i in range(0, num_iters + 1):\n",
        "\n",
        "  start = i * 1000\n",
        "  end = (i + 1) * 1000\n",
        "  print(\"input text \\n\" + result[start:end]) # slice this part of text from input and take this as a cchunk\n",
        "  out = summarizer(result[start:end]) # summaize he chunk taken as input\n",
        "  out = out[0]\n",
        "  out = out['summary_text']\n",
        "  print(\"Summarized text\\n\"+out)\n",
        "  summarized_text.append(out) # put the summrized text into the list"
      ],
      "metadata": {
        "colab": {
          "base_uri": "https://localhost:8080/"
        },
        "id": "07riKJpCApwa",
        "outputId": "2552d6dc-53b8-4a03-c1cd-da4fc69d5e4e"
      },
      "execution_count": 37,
      "outputs": [
        {
          "output_type": "stream",
          "name": "stdout",
          "text": [
            "input text \n",
            " hi everyone i'm aryan and today i'm going to take you through a project that i've made which i call youtube summarizer what youtube summarizer is is a chrome extension and you can go to any youtube video and it summarizes the youtube video for you in very few lines so you don't have to you know sit and watch through the whole video let me start by giving you a small demo here i have a video open a speech by steve jobs which he gave in 2005 at stanford now let's say i don't really want to watch this whole speech all i can do is go to my extensions click on youtube summarizer then click on summarize and here it is summarizing so we're back and as you can see this has finished summarizing this may seem like a lot but trust me compared to the whole transcript of the video this is barely 10 percent and obviously you can tweak this to your liking this extension the design may not look the best you may want to tweak the colors the styling that's all up to you the idea of this video is just t\n",
            "Summarized text\n",
            " i'm aryan and today i'm going to take you through a project that i've made which i call youtube summarizer . The extension is a chrome extension and you can go to any youtube video and it summarizes the youtube video for you in very few lines so you don't have to sit and watch through the whole video . The design may not look the best you may want to tweak the colors the styling that's all up to you .\n",
            "input text \n",
            "o show you uh what this is capable of and what you can create in python using just a few lines of code the way this project is structured is there is an api a summarized summarizer api that i've created in python and this chrome extension is created using html and javascript and whenever we run the summarize button it calls the summarizer api which is in python and then the api returns the summarized text which this chrome extension displays um so this is everything that you'll be needing for this project first of all we need flask which is used to create the api flask is a very popular python library for creating apis websites web apps whatever uh then for the actual summarizer itself the summarizer model we'll be using uh this library called hugging face transformers and hugging face provides a lot of pre-trained models and libraries for various use cases and we are going to use the summarization model that is provided to us by hugging face transformers lastly we're going to use the \n",
            "Summarized text\n",
            " The way this project is structured is there is an API a summarized summarizer API that i've created in python and this chrome extension is created using html and javascript and whenever we run the summarize button it calls the summarizer api which is in python . The summarizer model we'll be using is provided to us by hugging face transformers .\n",
            "input text \n",
            "youtube transcript api uh this just helps us extract the transcript from a youtube video and let's move on to the code shall we this uh let me start by giving you the struct the structure of the whole project first of all uh we have app.py app.py is the api that summarizes the whatever text you give to it uh then we have an extension folder and in the extension folder you will find everything that is needed for the chrome extension itself so uh here we have the icon uh you can see it's just a simple icon not really important you can put whatever you want uh manifest.json is something that is required by chrome so we need the extension title the description permissions uh etc etc you can see because chrome for security reasons chrome requires you to declare what your extension is about and uh popup.html and popup.js we'll get to that i'll get to that a bit later but this is basically what the these two are the extension itself whereas this is the api let's start with the api so app.py f\n",
            "Summarized text\n",
            " This is basically what the these two are the extension itself whereas this is the API let's start with the API so app.py is the api that summarizes the whatever text you give to it . Then we have an extension folder and in the extension folder you will find everything that is needed for the chrome extension itself .\n",
            "input text \n",
            "irst of all we are obviously importing everything we're importing flask uh we're importing youtube transcript api and we're importing pipeline from transformers now pipeline is a method of the transformers module that helps us implement whatever models they have summarization in our case the first thing we do is app equal to flask name this is just to set up the flask app uh you can find this on the flask documentation this is something that's required in all flask apps uh if you don't know i suggest you look this up but basically whenever you call a url an api is nothing but a url like a website url and whenever you call a url uh there are different kinds of requests there are get requests post request push requests a put request sorry so a get requests get in gets information post request is to post something on the database or on the app or whatever post new information there and a put request is to update existing information in our case we want to get request because we want to ge\n",
            "Summarized text\n",
            " The first thing we do is app equal to flask name this is just to set up the flask app . There are different kinds of requests there are get requests get requests post request push requests a put request . Pipeline is a method of the transformers module that helps us implement models they have summarization .\n",
            "input text \n",
            "t a summary we are not editing anything on the website itself so the first function i'm defining is a summary api so url equal to request request is something we've imported from flask and request is nothing but you know the the url it helps us perform functions using the url so the request that we send to flask uh if you don't know a url structure let me just quickly show it to you so basically there is um so [Music] www.google.com for example slash let's say books question mark title equal to python so this is an example of a u of a url and this is what is sent into the request uh so now with the url you can see there's different so this is the base url or the domain this is the this is the path that we want to follow so in our case slash summary so this is what we wanted this is the specific request that we're doing that is books is the request in our case summary is the request and this is the argument we are passing so in our case which book do we want we want the python book so t\n",
            "Summarized text\n",
            " The first function i'm defining is a summary API so url equal to request request is something we've imported from flask and request is nothing but you know the the the url it helps us perform functions using the url so the request that we send to flask is the request . In our case we are not editing anything on the website itself .\n",
            "input text \n",
            "itle equal to python in our case uh we will be passing an argument called url and that url will have the url of the youtube video so uh so basically url equal to request dot args args's arguments so these things next to the question mark they're called arguments so we want to get the url argument from this whole request now that that's out of the way we want to extract the video id from the url so the transcript api uses the video id to return a transcript because every youtube videos id is unique so we extract the video id over here using url dot split equal to and then we get this returns a string of uh this returns a list of strings and the in element at index one is the id that we want then we call the summary function uh and so basically there's a get transcript function that i've defined here and a get summary function that i've defined here and i'll get back and i'll get to them in just a second so basically what this is doing is i'm passing in the video id to the transfer trans\n",
            "Summarized text\n",
            " The transcript API uses the video id to return a transcript because every youtube videos id is unique so we extract the  video id over here using url dot split equal to and then we get this returns a string of . This returns a list of strings and the in element at index one is the id that we want then we call the summary function .\n",
            "input text \n",
            "cript function it is returning the transcript to me once i have the transcript i'm passing in this whole transcript to the get summary function and this get summary function returns the summary to me this summary is what i'm returning to the chrome extension now keep in mind it's the chrome extension which originally called the api so i'm returning this summary back to the chrome extension so that it can display it to the user along with that this is just uh this is an http code 200 that means the request was successful you may have heard of error 404 error 404 basically means the page wasn't found so just like that we have a status quo 200 that means the request was successful so getting into these functions get transcript this is a function that get gets a transcript based on the video id uh this is very simple uh transcript list of so if you haven't seen a youtube transcript in fact i can show you right now so in this video only let's see if i show transcript here a youtube transcri\n",
            "Summarized text\n",
            " Cript function it is returning the transcript to me once i have the transcript i'm passing in this whole transcript to the get summary function . This is an http code 200 that means the request was successful you may have heard of error 404 error 404 basically means the page wasn't found .\n",
            "input text \n",
            "pt is divided into various subparts you see zero five five is this one is this so the transcript api here this returns a list of all those various subparts and for the whole transcript i want to join all of them so i'm doing space so i'm joining all of those various strings with a space so that i get one long string of transcripts and then i return the transcript obviously this return transcript i pass it into the get summary function which gets me the summary and if you and uh so uh the way that so now we can move on to the actual summarizing and for the summarizing we aren't really implementing the whole summarizing model ourselves we're using an existing implementation by hugging face as i showed you earlier and the way you do this is first you initialize a summarizer the summarizer is nothing but pipeline and then the type of model that we want in case in this case the summarization model there are multiple there's a classification model identification multiple things so we want a \n",
            "Summarized text\n",
            " For the whole transcript i want to join all of them so i'm joining all of those various strings with a space so that i get one long string of transcripts and then i return the transcript . i pass it into the get summary function which gets me the summary and if you and uh so uh the way that so now we can move on to the actual summarizing and for the summarizing we aren't really implementing the whole summarizing model ourselves .\n",
            "input text \n",
            "summarization model i'm initializing away and if you don't uh understand some of this stuff don't worry i shared with you the websites just go through them they've got in detail descriptions of what each and every function is and what everything does so i'm initializing a variable called summary with this small with an empty string and now let me just just to understand what is going on here uh this unfortunately the transformers summarization model has a limitation it can only provide the summary of a piece of text that is smaller than 1000 characters and if let's say we in uh if let's say we pass a string that is greater than 1000 characters it will show an error to avoid that what we do is we break up our string into multiple parts of thousand and then we run the summarizing summarizer separately on each of those parts of thousand characters and then we combine all of them to create one giant summary so what i'm doing is i'm getting the length of the transcript i'm doing an integer \n",
            "Summarized text\n",
            " The transformers summarization model has a limitation it can only provide the summary of a piece of text that is smaller than 1000 characters . To avoid that what we do is we break up our string into multiple parts of thousand and then we run the summarizing summarizer separately on each of those parts of thousands characters and then combine all of them to create one giant summary .\n",
            "input text \n",
            "division by thousand to get the you know number of paths and then plus one because the range function does not include the stop value so for i in range this much i'm doing summary text this is part of the summary not the whole summary i'm running summarizer and the in the summarizer i have to pass in what transcript i want right so i'm passing in summarizer transcript and then just the substring of the transcript i into 1000 up till i plus 1 into 1000 this if you don't understand this this is a feature in python called string slicing this lets me take sub parts of a string i suggest you look this up it's very useful in multiple places so what we can do now is simply so this summarizer uh this summarizer function actually uh it does it returns a list of dictionaries so let me just take you to the documentation here to help you understand what i'm talking about so if we look at this so this is what the summarizer function returns right it returns the summary it returns the original text \n",
            "Summarized text\n",
            " For i in range this much i'm doing summary text this is part of the summary not the whole summary i'm running summarizer and the in the summarizer i have to pass in what transcript i want right so i'm passing in summarizer transcript and then just the substring of the transcript . This is a feature in python called string slicing this lets me take sub parts of a string .\n",
            "input text \n",
            "and it returns the title so what we want here is the summary the way we do this is access summary uh this zeroth index because it's a list and out from that we access the summary text because that is what we want now this and this forms a part of our summary text right uh now that we have the part we just attach it to the whole so summary is equal to summary plus summary text plus a space this look and then this repeats itself for how many of our parts the transcript has and remember we divided into it into parts earlier because we want it in parts of thousand characters because the summarizer function only takes strings up to thousand characters now that that's done once everything is there we have a whole summary we just return our summary over here that's it and that's basically all the api is and let me let's now move on to the chrome extension and let me show you how the chrome extension works right so i already showed you the manifest.json this is a something required by chrome u\n",
            "Summarized text\n",
            " The way we do this is access summary . and it returns the title so what we want here is the summary . The summary is equal to summary plus summary text plus a space this look and then this repeats itself for how many of our parts the transcript has and remember we divided into it into parts earlier because we want it in parts of thousand characters .\n",
            "input text \n",
            "h for privacy purposes and security purposes this you can search up on the chrome developer documentation or you can just copy what i have over here be sure you do this carefully or your extension may or may not work in so popup.html this extension i'm calling it a pop-up because you know when you click on it it pops up a window so i'm just calling it pop-up popup.html is the whole design this is where i design you know the text the buttons so i have a title youtube transcript summarizer and i have uh you know uh this this is the style so the button has this style button disabled has these styles of color uh padding border radius you can set this all to your liking or you can just do what i've done this is no big deal and this is where i've defined my layout so let me just take you through what i've done first of all we have the heading youtube transcript summarizer so if you look at what we have over here we have a heading first of all youtube transcript summarizer that is what i've d\n",
            "Summarized text\n",
            " Pop-up popup.html is the whole design this is where i design you know the text the buttons so i have a title youtube transcript summarizer . Be sure you do this carefully or your extension may or may not work in . h for privacy purposes and security purposes .\n",
            "input text \n",
            "efined over here then we have a button and this button is a summarize button that is this button over here and i've given it an id of summarize and this will come in later when we actually implement the extent the the logic of the extension uh here we have a paragraph with an id output so right now this is empty but later on when we run the extension and we actually get the summary that summary is going to come in over here in the output and this is the script because while the html defines the layout of our extension the popup.javascript file it defines the logic of our extension so uh for uh you know the for the extension to know what to do we just say script equal to script source equal to popup.js and when you know so when this popup.html is created when the layout of the whole thing is created it also calls popup.js which starts our extension and puts it into action um these ids are these ids are required so just uh for the logic so these this is the id we'll be using to identify \n",
            "Summarized text\n",
            " The extension is called popup.js and when this popup.html is created when the layout of the whole thing is created it also calls popup .js which starts our extension and puts it into action . This is the script because while the .html defines the . layout of our extension the . popup .javascript file it defines the logic of our . extension .\n",
            "input text \n",
            "the button to check if a user has clicked the button this id output is what we'll be requiring to put the you know the summarized output into the paragraph let's move on to the actual logic of how i have coded this whole of how the extension works um so first of all i am creating a button constant so constant button equal to document document is nothing but this html document and i'm get element by id this is the id that we defined earlier over here summarize this is the id so i'm getting an element using that id so i'm getting this summarize button and i'm saving it to this variable actually constant call button next to check if a user has actually clicked the button we do button dot add event listener and the function that we check for is a click and then this is everything that happens when the button is clicked first of all we set the button dot disabled equal to true as you can see here once i click this button i can't do click it anymore it's not disabled and it's started summari\n",
            "Summarized text\n",
            " The button to check if a user has clicked the button this id output is what we'll be requiring to put the you know the summarized output into the paragraph let's move on to the actual logic of how i have coded this whole of how the extension works . The function that we check for is a click and then this is everything that happens when the button is clicked .\n",
            "input text \n",
            "zing so that's what's happening here i'm doing button.disabled equal to true and i'm doing button dot inner html equal to summarizing this is inner html is nothing but changing the text of the button from summarize to summarizing just to give an idea just to let the user know what is going on so you know the user isn't just the user needs to have a response right because otherwise you can't just leave them or hanging next we need to get the url because if you remember our app requires the url our get when we send the get request we need the url of the youtube video so that we get using this chrome feature called chrome dot tabs dot query and by the way all of these you don't remember even i don't remember what each and every feature is you you can just simply go through the chrome documentation or the javascript documentation and they have all of these what each function does and everything so chrome.tabs.query i can query one of the tabs and i can so the current window true active tab\n",
            "Summarized text\n",
            " Using this chrome feature called chrome dot tabs dot query we get using this feature . We need to get the url of the youtube video so that we use it to get using the chrome feature . All of these you don't remember even i don't know what each and every feature is you can just go through the chrome documentation .\n",
            "input text \n",
            " true so i'm basically querying the active tab the active tab is obviously the youtube video tab and from that from that tab i'm extracting the url um you just do that simply by going to tabs 0 dot url because tabs is a list of all the tabs you have open and 0 is the current tab so i'm getting the url of the current tab i'm saving it to the variable url xhr is just a convention for an xml http request xml http request is a built-in class the javascript class to uh make http requests so we want to so http if you don't know is hypertext transfer protocol that's what every the whole internet revolves around hdb so when you enter a url into your address bar it sends a http request to the server and then it gets the data from the server and displays it to you so that's what we're doing this is our server uh 127.0.1 colon 5000 and this uh this is what i'm running locally so if you go to app dot py and let's say you so run this file uh you you'll get your server over here running on http 127 \n",
            "Summarized text\n",
            " This is our server  127.0.1 colon 5000 and this is what i'm running locally so if you go to app dot py and let's say you so run this file uh you'll get your server over here running on http 127   http 127 .\n",
            "input text \n",
            "5000 so this is the local server that this is running on and that's what i'm putting it over here and so xml http request dot open open is the function to start a new request and the request is a get request obviously because we want to get a summary and this is the url of the request so this so this is the serve this is accessing the server this is telling the server what we want to do we want to get the summary and this is passing in the argument if you remember over here we've passed in an argument so request.args.get that's what this is this is a url argument so we've got a url over here we're attaching it over here so url equal to um whatever the youtube video url is and yeah that's what this is next xhr.onload so once this whole so one so once we send this request and once it loads what we want to do is we get a response text right so the the the server sends back something called a response text so the way we work on that is we just do i'm saving the response text xhr dot respon\n",
            "Summarized text\n",
            " XML http request dot open open open is the function to start a new request and the request is a get request obviously because we want to get a summary and this is the URL of the request . This is the local server that this is running on and that's what i'm putting it over here and so once we send this request and once it loads we get a response text .\n",
            "input text \n",
            "se text i'm saving that to a variable called text next cons so this in the similar way which we access the button here we're going to access the paragraph the paragraph is this output this is where the output of the summary is actually going to be displayed so we do constant p equal to document.getelementbyid output again same as what we did for the button then this text which is the summary which we get as a response we do p dot inner html equal to text so this sets the so this basically sets the text of the paragraph to the summary we set button.disable to false because now that you know um everything is done we want to enable the button again so that the user can do another summary button.ino html equal to summarize again we've finished summarizing so we reset the button to its original state once we've so first we've opened the request then we load the request and once everything's loaded we send the request and send is basically nothing but this final confirmation that yes we want\n",
            "Summarized text\n",
            " We're going to access the paragraph the paragraph is this output this is where the output of the summary is actually going to be displayed so we do constant p equal to document.getelementbyid . Se text i'm saving that to a variable called text next cons so this in the similar way which we access the button here . We set button.disable to false because now that you know um everything is done we want to enable the button again .\n",
            "input text \n",
            " to do this request and once we do xhr.send all our details everything is going to be reflected onto the extension and yeah that's about it just a quick summary of everything i've done i know it might be a lot to take in for some of you but don't worry you can e the the key thing is to divide this into parts right i didn't start out thinking that i'm going to code all of this together in you know one hour or something bit by bit i first coded the i first quoted the api then i moved on to the html then i did the javascript then i did the manifest etc etc it's you have to divide this into parts basically and once you divide a problem into parts it doesn't seem like that big of a deal so uh once again this is the api that we've done in python this is the layout of our extension this is the logic of our extension this in javascript this is a chrome feature that is required manifest a json file and here is our icon well now that this is done how do you actually get this onto chrome how do y\n",
            "Summarized text\n",
            " The key thing is to divide this into parts right i didn't start out thinking that i'm going to code all of this together in you know one hour or something bit by bit . Once you divide a problem into parts it doesn't seem like that big of a deal so how do you actually get this onto chrome how do y .\n",
            "input text \n",
            "ou because i mean you've coded this this this is on your computer but if you go to chrome right now and go to a youtube video nothing's going to happen this isn't going to show up that's because we have to actually install this extension onto chrome and the way we do that is very simple not a big deal first of all you let me start from scratch you open a new tab in chrome pre whatever you go to your you know this hamburger menu go to extensions and here you'll see a list of your extensions right now i already have this youtube summarizer loaded so uh i'll remove it for now let me just remove it and to load an extension to load a custom extension all you need to do is first of all enable developer mode over here i hope you can see this developer mode what you have to do is enable this this gives you a lot of multiple different options uh what here we want to do is load an extension so we click on load unpacked this opens up your file explorer so navigate to your uh so now just navigate \n",
            "Summarized text\n",
            " To load an extension to load a custom extension all you need to do is first of all enable developer mode over here i hope you can see this developer mode . Click on load unpacked this opens up your file explorer so navigate to your chrome explorer . Click here to see how easy it is to install an extension onto chrome .\n",
            "input text \n",
            "to your folder structure which is what i'm doing right now uh youtube summarizer and remember this extension folder we created that has all our extension files we select this folder remember not the app dot py that's the api that is separate that runs separately from the extension we just want the extension folder so i'm going to select this folder and it's going to take some time and yeah it's loaded over here you should see youtube summarizer 1.0 the icon an extension to summarize youtube videos using the transcript and yeah that's it make sure it's enabled and now all you can do is go to youtube go to any youtube video um let's say i want to go to this video let's see what the zenfone 9 is uh click on extensions youtube summarizer click on summarize and yeah that's it that's all you need to do to create your very own youtube summarizer that will help you summarize long videos in very few lines and yeah thanks for watching keep exploring you\n",
            "Summarized text\n",
            " To create your very own youtube summarizer that will help you summarize long videos in very few lines and yeah that's it that's all you need to do is go to youtube go to any youtube video . Click on extensions youtube summaryizer click on summarize and yeah thanks for watching keep exploring you .\n"
          ]
        }
      ]
    },
    {
      "cell_type": "code",
      "source": [
        "len(str(summarized_text))"
      ],
      "metadata": {
        "colab": {
          "base_uri": "https://localhost:8080/"
        },
        "id": "SY0IyowaDa_r",
        "outputId": "1e142034-e9f5-4c47-f6fa-aec83879627a"
      },
      "execution_count": 38,
      "outputs": [
        {
          "output_type": "execute_result",
          "data": {
            "text/plain": [
              "7169"
            ]
          },
          "metadata": {},
          "execution_count": 38
        }
      ]
    },
    {
      "cell_type": "code",
      "source": [
        "str(summarized_text)"
      ],
      "metadata": {
        "colab": {
          "base_uri": "https://localhost:8080/",
          "height": 1000
        },
        "id": "qOUQ-8sUFB9f",
        "outputId": "cdd53b41-c626-47f7-c3e5-89c372981727"
      },
      "execution_count": 39,
      "outputs": [
        {
          "output_type": "execute_result",
          "data": {
            "text/plain": [
              "'[\" i\\'m aryan and today i\\'m going to take you through a project that i\\'ve made which i call youtube summarizer . The extension is a chrome extension and you can go to any youtube video and it summarizes the youtube video for you in very few lines so you don\\'t have to sit and watch through the whole video . The design may not look the best you may want to tweak the colors the styling that\\'s all up to you .\", \" The way this project is structured is there is an API a summarized summarizer API that i\\'ve created in python and this chrome extension is created using html and javascript and whenever we run the summarize button it calls the summarizer api which is in python . The summarizer model we\\'ll be using is provided to us by hugging face transformers .\", \" This is basically what the these two are the extension itself whereas this is the API let\\'s start with the API so app.py is the api that summarizes the whatever text you give to it . Then we have an extension folder and in the extension folder you will find everything that is needed for the chrome extension itself .\", \\' The first thing we do is app equal to flask name this is just to set up the flask app . There are different kinds of requests there are get requests get requests post request push requests a put request . Pipeline is a method of the transformers module that helps us implement models they have summarization .\\', \" The first function i\\'m defining is a summary API so url equal to request request is something we\\'ve imported from flask and request is nothing but you know the the the url it helps us perform functions using the url so the request that we send to flask is the request . In our case we are not editing anything on the website itself .\", \\' The transcript API uses the video id to return a transcript because every youtube videos id is unique so we extract the  video id over here using url dot split equal to and then we get this returns a string of . This returns a list of strings and the in element at index one is the id that we want then we call the summary function .\\', \" Cript function it is returning the transcript to me once i have the transcript i\\'m passing in this whole transcript to the get summary function . This is an http code 200 that means the request was successful you may have heard of error 404 error 404 basically means the page wasn\\'t found .\", \" For the whole transcript i want to join all of them so i\\'m joining all of those various strings with a space so that i get one long string of transcripts and then i return the transcript . i pass it into the get summary function which gets me the summary and if you and uh so uh the way that so now we can move on to the actual summarizing and for the summarizing we aren\\'t really implementing the whole summarizing model ourselves .\", \\' The transformers summarization model has a limitation it can only provide the summary of a piece of text that is smaller than 1000 characters . To avoid that what we do is we break up our string into multiple parts of thousand and then we run the summarizing summarizer separately on each of those parts of thousands characters and then combine all of them to create one giant summary .\\', \" For i in range this much i\\'m doing summary text this is part of the summary not the whole summary i\\'m running summarizer and the in the summarizer i have to pass in what transcript i want right so i\\'m passing in summarizer transcript and then just the substring of the transcript . This is a feature in python called string slicing this lets me take sub parts of a string .\", \\' The way we do this is access summary . and it returns the title so what we want here is the summary . The summary is equal to summary plus summary text plus a space this look and then this repeats itself for how many of our parts the transcript has and remember we divided into it into parts earlier because we want it in parts of thousand characters .\\', \\' Pop-up popup.html is the whole design this is where i design you know the text the buttons so i have a title youtube transcript summarizer . Be sure you do this carefully or your extension may or may not work in . h for privacy purposes and security purposes .\\', \\' The extension is called popup.js and when this popup.html is created when the layout of the whole thing is created it also calls popup .js which starts our extension and puts it into action . This is the script because while the .html defines the . layout of our extension the . popup .javascript file it defines the logic of our . extension .\\', \" The button to check if a user has clicked the button this id output is what we\\'ll be requiring to put the you know the summarized output into the paragraph let\\'s move on to the actual logic of how i have coded this whole of how the extension works . The function that we check for is a click and then this is everything that happens when the button is clicked .\", \" Using this chrome feature called chrome dot tabs dot query we get using this feature . We need to get the url of the youtube video so that we use it to get using the chrome feature . All of these you don\\'t remember even i don\\'t know what each and every feature is you can just go through the chrome documentation .\", \" This is our server  127.0.1 colon 5000 and this is what i\\'m running locally so if you go to app dot py and let\\'s say you so run this file uh you\\'ll get your server over here running on http 127  \\\\xa0http 127 .\", \" XML http request dot open open open is the function to start a new request and the request is a get request obviously because we want to get a summary and this is the URL of the request . This is the local server that this is running on and that\\'s what i\\'m putting it over here and so once we send this request and once it loads we get a response text .\", \" We\\'re going to access the paragraph the paragraph is this output this is where the output of the summary is actually going to be displayed so we do constant p equal to document.getelementbyid . Se text i\\'m saving that to a variable called text next cons so this in the similar way which we access the button here . We set button.disable to false because now that you know um everything is done we want to enable the button again .\", \" The key thing is to divide this into parts right i didn\\'t start out thinking that i\\'m going to code all of this together in you know one hour or something bit by bit . Once you divide a problem into parts it doesn\\'t seem like that big of a deal so how do you actually get this onto chrome how do y .\", \\' To load an extension to load a custom extension all you need to do is first of all enable developer mode over here i hope you can see this developer mode . Click on load unpacked this opens up your file explorer so navigate to your chrome explorer . Click here to see how easy it is to install an extension onto chrome .\\', \" To create your very own youtube summarizer that will help you summarize long videos in very few lines and yeah that\\'s it that\\'s all you need to do is go to youtube go to any youtube video . Click on extensions youtube summaryizer click on summarize and yeah thanks for watching keep exploring you .\"]'"
            ],
            "application/vnd.google.colaboratory.intrinsic+json": {
              "type": "string"
            }
          },
          "metadata": {},
          "execution_count": 39
        }
      ]
    }
  ]
}